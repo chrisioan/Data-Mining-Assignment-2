{
  "nbformat": 4,
  "nbformat_minor": 0,
  "metadata": {
    "colab": {
      "provenance": []
    },
    "kernelspec": {
      "name": "python3",
      "display_name": "Python 3"
    },
    "language_info": {
      "name": "python"
    }
  },
  "cells": [
    {
      "cell_type": "markdown",
      "source": [
        "---\n",
        "\n",
        "# Data Mining Techniques\n",
        "\n",
        "### Spring Semester 2022-2023\n",
        "### Assignment 2\n",
        "\n",
        "##### Christos Ioannou\n",
        "\n",
        "---"
      ],
      "metadata": {
        "id": "cUnFRZJPDgTz"
      }
    },
    {
      "cell_type": "markdown",
      "source": [
        "Initially, we use the `import`command to import the necessary libraries. We ensure that the import has been done correctly and then mount our Google Drive so that we can load the file `books_1.Best_Books_Ever.csv`."
      ],
      "metadata": {
        "id": "c_F83JDcMZPr"
      }
    },
    {
      "cell_type": "code",
      "source": [
        "import pandas as pd\n",
        "import numpy as np\n",
        "import sys\n",
        "import ast\n",
        "import datetime\n",
        "import string\n",
        "import pickle\n",
        "import time\n",
        "\n",
        "import matplotlib.pyplot as plt\n",
        "import matplotlib\n",
        "%matplotlib inline"
      ],
      "metadata": {
        "id": "J9I6nnozIhaR"
      },
      "execution_count": null,
      "outputs": []
    },
    {
      "cell_type": "code",
      "source": [
        "# Python version 3.X.X (default, MM DD YYYY, HH:MM:SS)\n",
        "# Matplotlib version 3.X.X\n",
        "print('Python version ' + sys.version)\n",
        "print('Pandas version ' + pd.__version__)\n",
        "print('Matplotlib version ' + matplotlib.__version__)"
      ],
      "metadata": {
        "colab": {
          "base_uri": "https://localhost:8080/"
        },
        "id": "21b3kRAJM9c7",
        "outputId": "ffe4812c-54c9-4de1-d93d-58d782baafda"
      },
      "execution_count": null,
      "outputs": [
        {
          "output_type": "stream",
          "name": "stdout",
          "text": [
            "Python version 3.10.11 (main, Apr  5 2023, 14:15:10) [GCC 9.4.0]\n",
            "Pandas version 1.5.3\n",
            "Matplotlib version 3.7.1\n"
          ]
        }
      ]
    },
    {
      "cell_type": "code",
      "source": [
        "from google.colab import drive\n",
        "drive.mount('/content/gdrive')"
      ],
      "metadata": {
        "colab": {
          "base_uri": "https://localhost:8080/"
        },
        "id": "TkSKetOwM_xO",
        "outputId": "97632793-8ffb-4f6a-a113-7469b939bdf5"
      },
      "execution_count": null,
      "outputs": [
        {
          "output_type": "stream",
          "name": "stdout",
          "text": [
            "Drive already mounted at /content/gdrive; to attempt to forcibly remount, call drive.mount(\"/content/gdrive\", force_remount=True).\n"
          ]
        }
      ]
    },
    {
      "cell_type": "markdown",
      "source": [
        "Next, we assign the path of the above-mentioned file to a variable, let's call it `Location`, which we will use to read it using the [`read_csv()`](https://pandas.pydata.org/pandas-docs/stable/reference/api/pandas.read_csv.html) function. The result will be a dataframe."
      ],
      "metadata": {
        "id": "v6txPZbeN8su"
      }
    },
    {
      "cell_type": "code",
      "source": [
        "# The function r escapes all the characters in the string\n",
        "Location = r'/content/gdrive/My Drive/University/Semester_8/ΤΕΔε/Εργασιες/Ασκηση_2/'\n",
        "\n",
        "df = pd.read_csv(Location + 'books_1.Best_Books_Ever.csv')\n",
        "\n",
        "df"
      ],
      "metadata": {
        "colab": {
          "base_uri": "https://localhost:8080/",
          "height": 1000
        },
        "id": "aoVOCjE_JJUk",
        "outputId": "e634963a-d624-491a-8707-4f5f447fdeef"
      },
      "execution_count": null,
      "outputs": [
        {
          "output_type": "execute_result",
          "data": {
            "text/plain": [
              "                                            bookId  \\\n",
              "0                         2767052-the-hunger-games   \n",
              "1      2.Harry_Potter_and_the_Order_of_the_Phoenix   \n",
              "2                       2657.To_Kill_a_Mockingbird   \n",
              "3                         1885.Pride_and_Prejudice   \n",
              "4                                   41865.Twilight   \n",
              "...                                            ...   \n",
              "52473                           11492014-fractured   \n",
              "52474                             11836711-anasazi   \n",
              "52475                              10815662-marked   \n",
              "52476                         11330278-wayward-son   \n",
              "52477                 10991547-daughter-of-helaman   \n",
              "\n",
              "                                           title                 series  \\\n",
              "0                               The Hunger Games    The Hunger Games #1   \n",
              "1      Harry Potter and the Order of the Phoenix        Harry Potter #5   \n",
              "2                          To Kill a Mockingbird  To Kill a Mockingbird   \n",
              "3                            Pride and Prejudice                    NaN   \n",
              "4                                       Twilight   The Twilight Saga #1   \n",
              "...                                          ...                    ...   \n",
              "52473                                  Fractured             Fateful #2   \n",
              "52474                                    Anasazi      Sense of Truth #2   \n",
              "52475                                     Marked      Soul Guardians #1   \n",
              "52476                                Wayward Son                    NaN   \n",
              "52477                        Daughter of Helaman   Stripling Warrior #1   \n",
              "\n",
              "                                                  author  rating  \\\n",
              "0                                        Suzanne Collins    4.33   \n",
              "1              J.K. Rowling, Mary GrandPré (Illustrator)    4.50   \n",
              "2                                             Harper Lee    4.28   \n",
              "3              Jane Austen, Anna Quindlen (Introduction)    4.26   \n",
              "4                                        Stephenie Meyer    3.60   \n",
              "...                                                  ...     ...   \n",
              "52473                   Cheri Schmidt (Goodreads Author)    4.00   \n",
              "52474                                      Emma Michaels    4.19   \n",
              "52475                  Kim Richardson (Goodreads Author)    3.70   \n",
              "52476  Tom Pollack (Goodreads Author), John Loftus (G...    3.85   \n",
              "52477                    Misty Moncur (Goodreads Author)    4.02   \n",
              "\n",
              "                                             description language  \\\n",
              "0      WINNING MEANS FAME AND FORTUNE.LOSING MEANS CE...  English   \n",
              "1      There is a door at the end of a silent corrido...  English   \n",
              "2      The unforgettable novel of a childhood in a sl...  English   \n",
              "3      Alternate cover edition of ISBN 9780679783268S...  English   \n",
              "4      About three things I was absolutely positive.\\...  English   \n",
              "...                                                  ...      ...   \n",
              "52473  The Fateful Trilogy continues with Fractured. ...  English   \n",
              "52474  'Anasazi', sequel to 'The Thirteenth Chime' by...  English   \n",
              "52475  --READERS FAVORITE AWARDS WINNER 2011--Sixteen...  English   \n",
              "52476  A POWERFUL TREMOR UNEARTHS AN ANCIENT SECRETBu...  English   \n",
              "52477  Fighting in Helaman's army is Keturah's deepes...  English   \n",
              "\n",
              "                isbn                                             genres  \\\n",
              "0      9780439023481  ['Young Adult', 'Fiction', 'Dystopia', 'Fantas...   \n",
              "1      9780439358071  ['Fantasy', 'Young Adult', 'Fiction', 'Magic',...   \n",
              "2      9999999999999  ['Classics', 'Fiction', 'Historical Fiction', ...   \n",
              "3      9999999999999  ['Classics', 'Fiction', 'Romance', 'Historical...   \n",
              "4      9780316015844  ['Young Adult', 'Fantasy', 'Romance', 'Vampire...   \n",
              "...              ...                                                ...   \n",
              "52473  2940012616562  ['Vampires', 'Paranormal', 'Young Adult', 'Rom...   \n",
              "52474  9999999999999                         ['Mystery', 'Young Adult']   \n",
              "52475  9781461017097  ['Fantasy', 'Young Adult', 'Paranormal', 'Ange...   \n",
              "52476  9781450755634  ['Fiction', 'Mystery', 'Historical Fiction', '...   \n",
              "52477  9781599554976  ['Lds Fiction', 'Historical Fiction', 'Young A...   \n",
              "\n",
              "                                              characters  ...  \\\n",
              "0      ['Katniss Everdeen', 'Peeta Mellark', 'Cato (H...  ...   \n",
              "1      ['Sirius Black', 'Draco Malfoy', 'Ron Weasley'...  ...   \n",
              "2      ['Scout Finch', 'Atticus Finch', 'Jem Finch', ...  ...   \n",
              "3      ['Mr. Bennet', 'Mrs. Bennet', 'Jane Bennet', '...  ...   \n",
              "4      ['Edward Cullen', 'Jacob Black', 'Laurent', 'R...  ...   \n",
              "...                                                  ...  ...   \n",
              "52473                                                 []  ...   \n",
              "52474                                                 []  ...   \n",
              "52475                                                 []  ...   \n",
              "52476                                                 []  ...   \n",
              "52477                                                 []  ...   \n",
              "\n",
              "      firstPublishDate                                             awards  \\\n",
              "0                  NaN  ['Locus Award Nominee for Best Young Adult Boo...   \n",
              "1             06/21/03  ['Bram Stoker Award for Works for Young Reader...   \n",
              "2             07/11/60  ['Pulitzer Prize for Fiction (1961)', 'Audie A...   \n",
              "3             01/28/13                                                 []   \n",
              "4             10/05/05  ['Georgia Peach Book Award (2007)', 'Buxtehude...   \n",
              "...                ...                                                ...   \n",
              "52473              NaN                                                 []   \n",
              "52474  August 3rd 2011                                                 []   \n",
              "52475  March 15th 2011            [\"Readers' Favorite Book Award (2011)\"]   \n",
              "52476   April 5th 2011                                                 []   \n",
              "52477              NaN                                                 []   \n",
              "\n",
              "      numRatings                                     ratingsByStars  \\\n",
              "0        6376780  ['3444695', '1921313', '745221', '171994', '93...   \n",
              "1        2507623  ['1593642', '637516', '222366', '39573', '14526']   \n",
              "2        4501075  ['2363896', '1333153', '573280', '149952', '80...   \n",
              "3        2998241  ['1617567', '816659', '373311', '113934', '767...   \n",
              "4        4964519  ['1751460', '1113682', '1008686', '542017', '5...   \n",
              "...          ...                                                ...   \n",
              "52473        871                  ['311', '310', '197', '42', '11']   \n",
              "52474         37                        ['16', '14', '5', '2', '0']   \n",
              "52475       6674             ['2109', '1868', '1660', '647', '390']   \n",
              "52476        238                      ['77', '78', '59', '19', '5']   \n",
              "52477        246                     ['106', '73', '42', '17', '8']   \n",
              "\n",
              "      likedPercent                                            setting  \\\n",
              "0             96.0  ['District 12, Panem', 'Capitol, Panem', 'Pane...   \n",
              "1             98.0  ['Hogwarts School of Witchcraft and Wizardry (...   \n",
              "2             95.0               ['Maycomb, Alabama (United States)']   \n",
              "3             94.0  ['United Kingdom', 'Derbyshire, England (Unite...   \n",
              "4             78.0  ['Forks, Washington (United States)', 'Phoenix...   \n",
              "...            ...                                                ...   \n",
              "52473         94.0                                                 []   \n",
              "52474         95.0                                                 []   \n",
              "52475         84.0                                                 []   \n",
              "52476         90.0                                                 []   \n",
              "52477         90.0                                                 []   \n",
              "\n",
              "                                                coverImg  bbeScore bbeVotes  \\\n",
              "0      https://i.gr-assets.com/images/S/compressed.ph...   2993816    30516   \n",
              "1      https://i.gr-assets.com/images/S/compressed.ph...   2632233    26923   \n",
              "2      https://i.gr-assets.com/images/S/compressed.ph...   2269402    23328   \n",
              "3      https://i.gr-assets.com/images/S/compressed.ph...   1983116    20452   \n",
              "4      https://i.gr-assets.com/images/S/compressed.ph...   1459448    14874   \n",
              "...                                                  ...       ...      ...   \n",
              "52473  https://i.gr-assets.com/images/S/compressed.ph...         0        1   \n",
              "52474  https://i.gr-assets.com/images/S/compressed.ph...         0        1   \n",
              "52475  https://i.gr-assets.com/images/S/compressed.ph...         0        1   \n",
              "52476  https://i.gr-assets.com/images/S/compressed.ph...         0        1   \n",
              "52477  https://i.gr-assets.com/images/S/compressed.ph...         0        1   \n",
              "\n",
              "       price  \n",
              "0       5.09  \n",
              "1       7.38  \n",
              "2        NaN  \n",
              "3        NaN  \n",
              "4        2.1  \n",
              "...      ...  \n",
              "52473    NaN  \n",
              "52474    NaN  \n",
              "52475   7.37  \n",
              "52476   2.86  \n",
              "52477   5.20  \n",
              "\n",
              "[52478 rows x 25 columns]"
            ],
            "text/html": [
              "\n",
              "  <div id=\"df-fa2caae7-66bc-4405-ba34-17c069cbc720\">\n",
              "    <div class=\"colab-df-container\">\n",
              "      <div>\n",
              "<style scoped>\n",
              "    .dataframe tbody tr th:only-of-type {\n",
              "        vertical-align: middle;\n",
              "    }\n",
              "\n",
              "    .dataframe tbody tr th {\n",
              "        vertical-align: top;\n",
              "    }\n",
              "\n",
              "    .dataframe thead th {\n",
              "        text-align: right;\n",
              "    }\n",
              "</style>\n",
              "<table border=\"1\" class=\"dataframe\">\n",
              "  <thead>\n",
              "    <tr style=\"text-align: right;\">\n",
              "      <th></th>\n",
              "      <th>bookId</th>\n",
              "      <th>title</th>\n",
              "      <th>series</th>\n",
              "      <th>author</th>\n",
              "      <th>rating</th>\n",
              "      <th>description</th>\n",
              "      <th>language</th>\n",
              "      <th>isbn</th>\n",
              "      <th>genres</th>\n",
              "      <th>characters</th>\n",
              "      <th>...</th>\n",
              "      <th>firstPublishDate</th>\n",
              "      <th>awards</th>\n",
              "      <th>numRatings</th>\n",
              "      <th>ratingsByStars</th>\n",
              "      <th>likedPercent</th>\n",
              "      <th>setting</th>\n",
              "      <th>coverImg</th>\n",
              "      <th>bbeScore</th>\n",
              "      <th>bbeVotes</th>\n",
              "      <th>price</th>\n",
              "    </tr>\n",
              "  </thead>\n",
              "  <tbody>\n",
              "    <tr>\n",
              "      <th>0</th>\n",
              "      <td>2767052-the-hunger-games</td>\n",
              "      <td>The Hunger Games</td>\n",
              "      <td>The Hunger Games #1</td>\n",
              "      <td>Suzanne Collins</td>\n",
              "      <td>4.33</td>\n",
              "      <td>WINNING MEANS FAME AND FORTUNE.LOSING MEANS CE...</td>\n",
              "      <td>English</td>\n",
              "      <td>9780439023481</td>\n",
              "      <td>['Young Adult', 'Fiction', 'Dystopia', 'Fantas...</td>\n",
              "      <td>['Katniss Everdeen', 'Peeta Mellark', 'Cato (H...</td>\n",
              "      <td>...</td>\n",
              "      <td>NaN</td>\n",
              "      <td>['Locus Award Nominee for Best Young Adult Boo...</td>\n",
              "      <td>6376780</td>\n",
              "      <td>['3444695', '1921313', '745221', '171994', '93...</td>\n",
              "      <td>96.0</td>\n",
              "      <td>['District 12, Panem', 'Capitol, Panem', 'Pane...</td>\n",
              "      <td>https://i.gr-assets.com/images/S/compressed.ph...</td>\n",
              "      <td>2993816</td>\n",
              "      <td>30516</td>\n",
              "      <td>5.09</td>\n",
              "    </tr>\n",
              "    <tr>\n",
              "      <th>1</th>\n",
              "      <td>2.Harry_Potter_and_the_Order_of_the_Phoenix</td>\n",
              "      <td>Harry Potter and the Order of the Phoenix</td>\n",
              "      <td>Harry Potter #5</td>\n",
              "      <td>J.K. Rowling, Mary GrandPré (Illustrator)</td>\n",
              "      <td>4.50</td>\n",
              "      <td>There is a door at the end of a silent corrido...</td>\n",
              "      <td>English</td>\n",
              "      <td>9780439358071</td>\n",
              "      <td>['Fantasy', 'Young Adult', 'Fiction', 'Magic',...</td>\n",
              "      <td>['Sirius Black', 'Draco Malfoy', 'Ron Weasley'...</td>\n",
              "      <td>...</td>\n",
              "      <td>06/21/03</td>\n",
              "      <td>['Bram Stoker Award for Works for Young Reader...</td>\n",
              "      <td>2507623</td>\n",
              "      <td>['1593642', '637516', '222366', '39573', '14526']</td>\n",
              "      <td>98.0</td>\n",
              "      <td>['Hogwarts School of Witchcraft and Wizardry (...</td>\n",
              "      <td>https://i.gr-assets.com/images/S/compressed.ph...</td>\n",
              "      <td>2632233</td>\n",
              "      <td>26923</td>\n",
              "      <td>7.38</td>\n",
              "    </tr>\n",
              "    <tr>\n",
              "      <th>2</th>\n",
              "      <td>2657.To_Kill_a_Mockingbird</td>\n",
              "      <td>To Kill a Mockingbird</td>\n",
              "      <td>To Kill a Mockingbird</td>\n",
              "      <td>Harper Lee</td>\n",
              "      <td>4.28</td>\n",
              "      <td>The unforgettable novel of a childhood in a sl...</td>\n",
              "      <td>English</td>\n",
              "      <td>9999999999999</td>\n",
              "      <td>['Classics', 'Fiction', 'Historical Fiction', ...</td>\n",
              "      <td>['Scout Finch', 'Atticus Finch', 'Jem Finch', ...</td>\n",
              "      <td>...</td>\n",
              "      <td>07/11/60</td>\n",
              "      <td>['Pulitzer Prize for Fiction (1961)', 'Audie A...</td>\n",
              "      <td>4501075</td>\n",
              "      <td>['2363896', '1333153', '573280', '149952', '80...</td>\n",
              "      <td>95.0</td>\n",
              "      <td>['Maycomb, Alabama (United States)']</td>\n",
              "      <td>https://i.gr-assets.com/images/S/compressed.ph...</td>\n",
              "      <td>2269402</td>\n",
              "      <td>23328</td>\n",
              "      <td>NaN</td>\n",
              "    </tr>\n",
              "    <tr>\n",
              "      <th>3</th>\n",
              "      <td>1885.Pride_and_Prejudice</td>\n",
              "      <td>Pride and Prejudice</td>\n",
              "      <td>NaN</td>\n",
              "      <td>Jane Austen, Anna Quindlen (Introduction)</td>\n",
              "      <td>4.26</td>\n",
              "      <td>Alternate cover edition of ISBN 9780679783268S...</td>\n",
              "      <td>English</td>\n",
              "      <td>9999999999999</td>\n",
              "      <td>['Classics', 'Fiction', 'Romance', 'Historical...</td>\n",
              "      <td>['Mr. Bennet', 'Mrs. Bennet', 'Jane Bennet', '...</td>\n",
              "      <td>...</td>\n",
              "      <td>01/28/13</td>\n",
              "      <td>[]</td>\n",
              "      <td>2998241</td>\n",
              "      <td>['1617567', '816659', '373311', '113934', '767...</td>\n",
              "      <td>94.0</td>\n",
              "      <td>['United Kingdom', 'Derbyshire, England (Unite...</td>\n",
              "      <td>https://i.gr-assets.com/images/S/compressed.ph...</td>\n",
              "      <td>1983116</td>\n",
              "      <td>20452</td>\n",
              "      <td>NaN</td>\n",
              "    </tr>\n",
              "    <tr>\n",
              "      <th>4</th>\n",
              "      <td>41865.Twilight</td>\n",
              "      <td>Twilight</td>\n",
              "      <td>The Twilight Saga #1</td>\n",
              "      <td>Stephenie Meyer</td>\n",
              "      <td>3.60</td>\n",
              "      <td>About three things I was absolutely positive.\\...</td>\n",
              "      <td>English</td>\n",
              "      <td>9780316015844</td>\n",
              "      <td>['Young Adult', 'Fantasy', 'Romance', 'Vampire...</td>\n",
              "      <td>['Edward Cullen', 'Jacob Black', 'Laurent', 'R...</td>\n",
              "      <td>...</td>\n",
              "      <td>10/05/05</td>\n",
              "      <td>['Georgia Peach Book Award (2007)', 'Buxtehude...</td>\n",
              "      <td>4964519</td>\n",
              "      <td>['1751460', '1113682', '1008686', '542017', '5...</td>\n",
              "      <td>78.0</td>\n",
              "      <td>['Forks, Washington (United States)', 'Phoenix...</td>\n",
              "      <td>https://i.gr-assets.com/images/S/compressed.ph...</td>\n",
              "      <td>1459448</td>\n",
              "      <td>14874</td>\n",
              "      <td>2.1</td>\n",
              "    </tr>\n",
              "    <tr>\n",
              "      <th>...</th>\n",
              "      <td>...</td>\n",
              "      <td>...</td>\n",
              "      <td>...</td>\n",
              "      <td>...</td>\n",
              "      <td>...</td>\n",
              "      <td>...</td>\n",
              "      <td>...</td>\n",
              "      <td>...</td>\n",
              "      <td>...</td>\n",
              "      <td>...</td>\n",
              "      <td>...</td>\n",
              "      <td>...</td>\n",
              "      <td>...</td>\n",
              "      <td>...</td>\n",
              "      <td>...</td>\n",
              "      <td>...</td>\n",
              "      <td>...</td>\n",
              "      <td>...</td>\n",
              "      <td>...</td>\n",
              "      <td>...</td>\n",
              "      <td>...</td>\n",
              "    </tr>\n",
              "    <tr>\n",
              "      <th>52473</th>\n",
              "      <td>11492014-fractured</td>\n",
              "      <td>Fractured</td>\n",
              "      <td>Fateful #2</td>\n",
              "      <td>Cheri Schmidt (Goodreads Author)</td>\n",
              "      <td>4.00</td>\n",
              "      <td>The Fateful Trilogy continues with Fractured. ...</td>\n",
              "      <td>English</td>\n",
              "      <td>2940012616562</td>\n",
              "      <td>['Vampires', 'Paranormal', 'Young Adult', 'Rom...</td>\n",
              "      <td>[]</td>\n",
              "      <td>...</td>\n",
              "      <td>NaN</td>\n",
              "      <td>[]</td>\n",
              "      <td>871</td>\n",
              "      <td>['311', '310', '197', '42', '11']</td>\n",
              "      <td>94.0</td>\n",
              "      <td>[]</td>\n",
              "      <td>https://i.gr-assets.com/images/S/compressed.ph...</td>\n",
              "      <td>0</td>\n",
              "      <td>1</td>\n",
              "      <td>NaN</td>\n",
              "    </tr>\n",
              "    <tr>\n",
              "      <th>52474</th>\n",
              "      <td>11836711-anasazi</td>\n",
              "      <td>Anasazi</td>\n",
              "      <td>Sense of Truth #2</td>\n",
              "      <td>Emma Michaels</td>\n",
              "      <td>4.19</td>\n",
              "      <td>'Anasazi', sequel to 'The Thirteenth Chime' by...</td>\n",
              "      <td>English</td>\n",
              "      <td>9999999999999</td>\n",
              "      <td>['Mystery', 'Young Adult']</td>\n",
              "      <td>[]</td>\n",
              "      <td>...</td>\n",
              "      <td>August 3rd 2011</td>\n",
              "      <td>[]</td>\n",
              "      <td>37</td>\n",
              "      <td>['16', '14', '5', '2', '0']</td>\n",
              "      <td>95.0</td>\n",
              "      <td>[]</td>\n",
              "      <td>https://i.gr-assets.com/images/S/compressed.ph...</td>\n",
              "      <td>0</td>\n",
              "      <td>1</td>\n",
              "      <td>NaN</td>\n",
              "    </tr>\n",
              "    <tr>\n",
              "      <th>52475</th>\n",
              "      <td>10815662-marked</td>\n",
              "      <td>Marked</td>\n",
              "      <td>Soul Guardians #1</td>\n",
              "      <td>Kim Richardson (Goodreads Author)</td>\n",
              "      <td>3.70</td>\n",
              "      <td>--READERS FAVORITE AWARDS WINNER 2011--Sixteen...</td>\n",
              "      <td>English</td>\n",
              "      <td>9781461017097</td>\n",
              "      <td>['Fantasy', 'Young Adult', 'Paranormal', 'Ange...</td>\n",
              "      <td>[]</td>\n",
              "      <td>...</td>\n",
              "      <td>March 15th 2011</td>\n",
              "      <td>[\"Readers' Favorite Book Award (2011)\"]</td>\n",
              "      <td>6674</td>\n",
              "      <td>['2109', '1868', '1660', '647', '390']</td>\n",
              "      <td>84.0</td>\n",
              "      <td>[]</td>\n",
              "      <td>https://i.gr-assets.com/images/S/compressed.ph...</td>\n",
              "      <td>0</td>\n",
              "      <td>1</td>\n",
              "      <td>7.37</td>\n",
              "    </tr>\n",
              "    <tr>\n",
              "      <th>52476</th>\n",
              "      <td>11330278-wayward-son</td>\n",
              "      <td>Wayward Son</td>\n",
              "      <td>NaN</td>\n",
              "      <td>Tom Pollack (Goodreads Author), John Loftus (G...</td>\n",
              "      <td>3.85</td>\n",
              "      <td>A POWERFUL TREMOR UNEARTHS AN ANCIENT SECRETBu...</td>\n",
              "      <td>English</td>\n",
              "      <td>9781450755634</td>\n",
              "      <td>['Fiction', 'Mystery', 'Historical Fiction', '...</td>\n",
              "      <td>[]</td>\n",
              "      <td>...</td>\n",
              "      <td>April 5th 2011</td>\n",
              "      <td>[]</td>\n",
              "      <td>238</td>\n",
              "      <td>['77', '78', '59', '19', '5']</td>\n",
              "      <td>90.0</td>\n",
              "      <td>[]</td>\n",
              "      <td>https://i.gr-assets.com/images/S/compressed.ph...</td>\n",
              "      <td>0</td>\n",
              "      <td>1</td>\n",
              "      <td>2.86</td>\n",
              "    </tr>\n",
              "    <tr>\n",
              "      <th>52477</th>\n",
              "      <td>10991547-daughter-of-helaman</td>\n",
              "      <td>Daughter of Helaman</td>\n",
              "      <td>Stripling Warrior #1</td>\n",
              "      <td>Misty Moncur (Goodreads Author)</td>\n",
              "      <td>4.02</td>\n",
              "      <td>Fighting in Helaman's army is Keturah's deepes...</td>\n",
              "      <td>English</td>\n",
              "      <td>9781599554976</td>\n",
              "      <td>['Lds Fiction', 'Historical Fiction', 'Young A...</td>\n",
              "      <td>[]</td>\n",
              "      <td>...</td>\n",
              "      <td>NaN</td>\n",
              "      <td>[]</td>\n",
              "      <td>246</td>\n",
              "      <td>['106', '73', '42', '17', '8']</td>\n",
              "      <td>90.0</td>\n",
              "      <td>[]</td>\n",
              "      <td>https://i.gr-assets.com/images/S/compressed.ph...</td>\n",
              "      <td>0</td>\n",
              "      <td>1</td>\n",
              "      <td>5.20</td>\n",
              "    </tr>\n",
              "  </tbody>\n",
              "</table>\n",
              "<p>52478 rows × 25 columns</p>\n",
              "</div>\n",
              "      <button class=\"colab-df-convert\" onclick=\"convertToInteractive('df-fa2caae7-66bc-4405-ba34-17c069cbc720')\"\n",
              "              title=\"Convert this dataframe to an interactive table.\"\n",
              "              style=\"display:none;\">\n",
              "        \n",
              "  <svg xmlns=\"http://www.w3.org/2000/svg\" height=\"24px\"viewBox=\"0 0 24 24\"\n",
              "       width=\"24px\">\n",
              "    <path d=\"M0 0h24v24H0V0z\" fill=\"none\"/>\n",
              "    <path d=\"M18.56 5.44l.94 2.06.94-2.06 2.06-.94-2.06-.94-.94-2.06-.94 2.06-2.06.94zm-11 1L8.5 8.5l.94-2.06 2.06-.94-2.06-.94L8.5 2.5l-.94 2.06-2.06.94zm10 10l.94 2.06.94-2.06 2.06-.94-2.06-.94-.94-2.06-.94 2.06-2.06.94z\"/><path d=\"M17.41 7.96l-1.37-1.37c-.4-.4-.92-.59-1.43-.59-.52 0-1.04.2-1.43.59L10.3 9.45l-7.72 7.72c-.78.78-.78 2.05 0 2.83L4 21.41c.39.39.9.59 1.41.59.51 0 1.02-.2 1.41-.59l7.78-7.78 2.81-2.81c.8-.78.8-2.07 0-2.86zM5.41 20L4 18.59l7.72-7.72 1.47 1.35L5.41 20z\"/>\n",
              "  </svg>\n",
              "      </button>\n",
              "      \n",
              "  <style>\n",
              "    .colab-df-container {\n",
              "      display:flex;\n",
              "      flex-wrap:wrap;\n",
              "      gap: 12px;\n",
              "    }\n",
              "\n",
              "    .colab-df-convert {\n",
              "      background-color: #E8F0FE;\n",
              "      border: none;\n",
              "      border-radius: 50%;\n",
              "      cursor: pointer;\n",
              "      display: none;\n",
              "      fill: #1967D2;\n",
              "      height: 32px;\n",
              "      padding: 0 0 0 0;\n",
              "      width: 32px;\n",
              "    }\n",
              "\n",
              "    .colab-df-convert:hover {\n",
              "      background-color: #E2EBFA;\n",
              "      box-shadow: 0px 1px 2px rgba(60, 64, 67, 0.3), 0px 1px 3px 1px rgba(60, 64, 67, 0.15);\n",
              "      fill: #174EA6;\n",
              "    }\n",
              "\n",
              "    [theme=dark] .colab-df-convert {\n",
              "      background-color: #3B4455;\n",
              "      fill: #D2E3FC;\n",
              "    }\n",
              "\n",
              "    [theme=dark] .colab-df-convert:hover {\n",
              "      background-color: #434B5C;\n",
              "      box-shadow: 0px 1px 3px 1px rgba(0, 0, 0, 0.15);\n",
              "      filter: drop-shadow(0px 1px 2px rgba(0, 0, 0, 0.3));\n",
              "      fill: #FFFFFF;\n",
              "    }\n",
              "  </style>\n",
              "\n",
              "      <script>\n",
              "        const buttonEl =\n",
              "          document.querySelector('#df-fa2caae7-66bc-4405-ba34-17c069cbc720 button.colab-df-convert');\n",
              "        buttonEl.style.display =\n",
              "          google.colab.kernel.accessAllowed ? 'block' : 'none';\n",
              "\n",
              "        async function convertToInteractive(key) {\n",
              "          const element = document.querySelector('#df-fa2caae7-66bc-4405-ba34-17c069cbc720');\n",
              "          const dataTable =\n",
              "            await google.colab.kernel.invokeFunction('convertToInteractive',\n",
              "                                                     [key], {});\n",
              "          if (!dataTable) return;\n",
              "\n",
              "          const docLinkHtml = 'Like what you see? Visit the ' +\n",
              "            '<a target=\"_blank\" href=https://colab.research.google.com/notebooks/data_table.ipynb>data table notebook</a>'\n",
              "            + ' to learn more about interactive tables.';\n",
              "          element.innerHTML = '';\n",
              "          dataTable['output_type'] = 'display_data';\n",
              "          await google.colab.output.renderOutput(dataTable, element);\n",
              "          const docLink = document.createElement('div');\n",
              "          docLink.innerHTML = docLinkHtml;\n",
              "          element.appendChild(docLink);\n",
              "        }\n",
              "      </script>\n",
              "    </div>\n",
              "  </div>\n",
              "  "
            ]
          },
          "metadata": {},
          "execution_count": 64
        }
      ]
    },
    {
      "cell_type": "markdown",
      "source": [
        "Firstly, we can remove the records that contain missing data using the [`dropna()`](https://pandas.pydata.org/docs/reference/api/pandas.DataFrame.dropna.html) function."
      ],
      "metadata": {
        "id": "owuJBdGkaXHd"
      }
    },
    {
      "cell_type": "code",
      "source": [
        "# Use dropna() to get rid of rows that contain missing data\n",
        "# Apply only in columns that we're gonna use\n",
        "df.dropna(subset=['bookId', 'title', 'author', 'rating', 'description',\n",
        "                  'language', 'genres', 'pages', 'publisher', 'publishDate',\n",
        "                  'numRatings', 'ratingsByStars'], inplace=True)\n",
        "\n",
        "df"
      ],
      "metadata": {
        "colab": {
          "base_uri": "https://localhost:8080/",
          "height": 1000
        },
        "id": "7dKxd_OuYoHN",
        "outputId": "850f597f-7a91-4d5b-cdc2-2b01f97cab99"
      },
      "execution_count": null,
      "outputs": [
        {
          "output_type": "execute_result",
          "data": {
            "text/plain": [
              "                                            bookId  \\\n",
              "0                         2767052-the-hunger-games   \n",
              "1      2.Harry_Potter_and_the_Order_of_the_Phoenix   \n",
              "2                       2657.To_Kill_a_Mockingbird   \n",
              "3                         1885.Pride_and_Prejudice   \n",
              "4                                   41865.Twilight   \n",
              "...                                            ...   \n",
              "52473                           11492014-fractured   \n",
              "52474                             11836711-anasazi   \n",
              "52475                              10815662-marked   \n",
              "52476                         11330278-wayward-son   \n",
              "52477                 10991547-daughter-of-helaman   \n",
              "\n",
              "                                           title                 series  \\\n",
              "0                               The Hunger Games    The Hunger Games #1   \n",
              "1      Harry Potter and the Order of the Phoenix        Harry Potter #5   \n",
              "2                          To Kill a Mockingbird  To Kill a Mockingbird   \n",
              "3                            Pride and Prejudice                    NaN   \n",
              "4                                       Twilight   The Twilight Saga #1   \n",
              "...                                          ...                    ...   \n",
              "52473                                  Fractured             Fateful #2   \n",
              "52474                                    Anasazi      Sense of Truth #2   \n",
              "52475                                     Marked      Soul Guardians #1   \n",
              "52476                                Wayward Son                    NaN   \n",
              "52477                        Daughter of Helaman   Stripling Warrior #1   \n",
              "\n",
              "                                                  author  rating  \\\n",
              "0                                        Suzanne Collins    4.33   \n",
              "1              J.K. Rowling, Mary GrandPré (Illustrator)    4.50   \n",
              "2                                             Harper Lee    4.28   \n",
              "3              Jane Austen, Anna Quindlen (Introduction)    4.26   \n",
              "4                                        Stephenie Meyer    3.60   \n",
              "...                                                  ...     ...   \n",
              "52473                   Cheri Schmidt (Goodreads Author)    4.00   \n",
              "52474                                      Emma Michaels    4.19   \n",
              "52475                  Kim Richardson (Goodreads Author)    3.70   \n",
              "52476  Tom Pollack (Goodreads Author), John Loftus (G...    3.85   \n",
              "52477                    Misty Moncur (Goodreads Author)    4.02   \n",
              "\n",
              "                                             description language  \\\n",
              "0      WINNING MEANS FAME AND FORTUNE.LOSING MEANS CE...  English   \n",
              "1      There is a door at the end of a silent corrido...  English   \n",
              "2      The unforgettable novel of a childhood in a sl...  English   \n",
              "3      Alternate cover edition of ISBN 9780679783268S...  English   \n",
              "4      About three things I was absolutely positive.\\...  English   \n",
              "...                                                  ...      ...   \n",
              "52473  The Fateful Trilogy continues with Fractured. ...  English   \n",
              "52474  'Anasazi', sequel to 'The Thirteenth Chime' by...  English   \n",
              "52475  --READERS FAVORITE AWARDS WINNER 2011--Sixteen...  English   \n",
              "52476  A POWERFUL TREMOR UNEARTHS AN ANCIENT SECRETBu...  English   \n",
              "52477  Fighting in Helaman's army is Keturah's deepes...  English   \n",
              "\n",
              "                isbn                                             genres  \\\n",
              "0      9780439023481  ['Young Adult', 'Fiction', 'Dystopia', 'Fantas...   \n",
              "1      9780439358071  ['Fantasy', 'Young Adult', 'Fiction', 'Magic',...   \n",
              "2      9999999999999  ['Classics', 'Fiction', 'Historical Fiction', ...   \n",
              "3      9999999999999  ['Classics', 'Fiction', 'Romance', 'Historical...   \n",
              "4      9780316015844  ['Young Adult', 'Fantasy', 'Romance', 'Vampire...   \n",
              "...              ...                                                ...   \n",
              "52473  2940012616562  ['Vampires', 'Paranormal', 'Young Adult', 'Rom...   \n",
              "52474  9999999999999                         ['Mystery', 'Young Adult']   \n",
              "52475  9781461017097  ['Fantasy', 'Young Adult', 'Paranormal', 'Ange...   \n",
              "52476  9781450755634  ['Fiction', 'Mystery', 'Historical Fiction', '...   \n",
              "52477  9781599554976  ['Lds Fiction', 'Historical Fiction', 'Young A...   \n",
              "\n",
              "                                              characters  ...  \\\n",
              "0      ['Katniss Everdeen', 'Peeta Mellark', 'Cato (H...  ...   \n",
              "1      ['Sirius Black', 'Draco Malfoy', 'Ron Weasley'...  ...   \n",
              "2      ['Scout Finch', 'Atticus Finch', 'Jem Finch', ...  ...   \n",
              "3      ['Mr. Bennet', 'Mrs. Bennet', 'Jane Bennet', '...  ...   \n",
              "4      ['Edward Cullen', 'Jacob Black', 'Laurent', 'R...  ...   \n",
              "...                                                  ...  ...   \n",
              "52473                                                 []  ...   \n",
              "52474                                                 []  ...   \n",
              "52475                                                 []  ...   \n",
              "52476                                                 []  ...   \n",
              "52477                                                 []  ...   \n",
              "\n",
              "      firstPublishDate                                             awards  \\\n",
              "0                  NaN  ['Locus Award Nominee for Best Young Adult Boo...   \n",
              "1             06/21/03  ['Bram Stoker Award for Works for Young Reader...   \n",
              "2             07/11/60  ['Pulitzer Prize for Fiction (1961)', 'Audie A...   \n",
              "3             01/28/13                                                 []   \n",
              "4             10/05/05  ['Georgia Peach Book Award (2007)', 'Buxtehude...   \n",
              "...                ...                                                ...   \n",
              "52473              NaN                                                 []   \n",
              "52474  August 3rd 2011                                                 []   \n",
              "52475  March 15th 2011            [\"Readers' Favorite Book Award (2011)\"]   \n",
              "52476   April 5th 2011                                                 []   \n",
              "52477              NaN                                                 []   \n",
              "\n",
              "      numRatings                                     ratingsByStars  \\\n",
              "0        6376780  ['3444695', '1921313', '745221', '171994', '93...   \n",
              "1        2507623  ['1593642', '637516', '222366', '39573', '14526']   \n",
              "2        4501075  ['2363896', '1333153', '573280', '149952', '80...   \n",
              "3        2998241  ['1617567', '816659', '373311', '113934', '767...   \n",
              "4        4964519  ['1751460', '1113682', '1008686', '542017', '5...   \n",
              "...          ...                                                ...   \n",
              "52473        871                  ['311', '310', '197', '42', '11']   \n",
              "52474         37                        ['16', '14', '5', '2', '0']   \n",
              "52475       6674             ['2109', '1868', '1660', '647', '390']   \n",
              "52476        238                      ['77', '78', '59', '19', '5']   \n",
              "52477        246                     ['106', '73', '42', '17', '8']   \n",
              "\n",
              "      likedPercent                                            setting  \\\n",
              "0             96.0  ['District 12, Panem', 'Capitol, Panem', 'Pane...   \n",
              "1             98.0  ['Hogwarts School of Witchcraft and Wizardry (...   \n",
              "2             95.0               ['Maycomb, Alabama (United States)']   \n",
              "3             94.0  ['United Kingdom', 'Derbyshire, England (Unite...   \n",
              "4             78.0  ['Forks, Washington (United States)', 'Phoenix...   \n",
              "...            ...                                                ...   \n",
              "52473         94.0                                                 []   \n",
              "52474         95.0                                                 []   \n",
              "52475         84.0                                                 []   \n",
              "52476         90.0                                                 []   \n",
              "52477         90.0                                                 []   \n",
              "\n",
              "                                                coverImg  bbeScore bbeVotes  \\\n",
              "0      https://i.gr-assets.com/images/S/compressed.ph...   2993816    30516   \n",
              "1      https://i.gr-assets.com/images/S/compressed.ph...   2632233    26923   \n",
              "2      https://i.gr-assets.com/images/S/compressed.ph...   2269402    23328   \n",
              "3      https://i.gr-assets.com/images/S/compressed.ph...   1983116    20452   \n",
              "4      https://i.gr-assets.com/images/S/compressed.ph...   1459448    14874   \n",
              "...                                                  ...       ...      ...   \n",
              "52473  https://i.gr-assets.com/images/S/compressed.ph...         0        1   \n",
              "52474  https://i.gr-assets.com/images/S/compressed.ph...         0        1   \n",
              "52475  https://i.gr-assets.com/images/S/compressed.ph...         0        1   \n",
              "52476  https://i.gr-assets.com/images/S/compressed.ph...         0        1   \n",
              "52477  https://i.gr-assets.com/images/S/compressed.ph...         0        1   \n",
              "\n",
              "       price  \n",
              "0       5.09  \n",
              "1       7.38  \n",
              "2        NaN  \n",
              "3        NaN  \n",
              "4        2.1  \n",
              "...      ...  \n",
              "52473    NaN  \n",
              "52474    NaN  \n",
              "52475   7.37  \n",
              "52476   2.86  \n",
              "52477   5.20  \n",
              "\n",
              "[44034 rows x 25 columns]"
            ],
            "text/html": [
              "\n",
              "  <div id=\"df-be5f918f-feb9-4730-85d5-9d3b36d8e207\">\n",
              "    <div class=\"colab-df-container\">\n",
              "      <div>\n",
              "<style scoped>\n",
              "    .dataframe tbody tr th:only-of-type {\n",
              "        vertical-align: middle;\n",
              "    }\n",
              "\n",
              "    .dataframe tbody tr th {\n",
              "        vertical-align: top;\n",
              "    }\n",
              "\n",
              "    .dataframe thead th {\n",
              "        text-align: right;\n",
              "    }\n",
              "</style>\n",
              "<table border=\"1\" class=\"dataframe\">\n",
              "  <thead>\n",
              "    <tr style=\"text-align: right;\">\n",
              "      <th></th>\n",
              "      <th>bookId</th>\n",
              "      <th>title</th>\n",
              "      <th>series</th>\n",
              "      <th>author</th>\n",
              "      <th>rating</th>\n",
              "      <th>description</th>\n",
              "      <th>language</th>\n",
              "      <th>isbn</th>\n",
              "      <th>genres</th>\n",
              "      <th>characters</th>\n",
              "      <th>...</th>\n",
              "      <th>firstPublishDate</th>\n",
              "      <th>awards</th>\n",
              "      <th>numRatings</th>\n",
              "      <th>ratingsByStars</th>\n",
              "      <th>likedPercent</th>\n",
              "      <th>setting</th>\n",
              "      <th>coverImg</th>\n",
              "      <th>bbeScore</th>\n",
              "      <th>bbeVotes</th>\n",
              "      <th>price</th>\n",
              "    </tr>\n",
              "  </thead>\n",
              "  <tbody>\n",
              "    <tr>\n",
              "      <th>0</th>\n",
              "      <td>2767052-the-hunger-games</td>\n",
              "      <td>The Hunger Games</td>\n",
              "      <td>The Hunger Games #1</td>\n",
              "      <td>Suzanne Collins</td>\n",
              "      <td>4.33</td>\n",
              "      <td>WINNING MEANS FAME AND FORTUNE.LOSING MEANS CE...</td>\n",
              "      <td>English</td>\n",
              "      <td>9780439023481</td>\n",
              "      <td>['Young Adult', 'Fiction', 'Dystopia', 'Fantas...</td>\n",
              "      <td>['Katniss Everdeen', 'Peeta Mellark', 'Cato (H...</td>\n",
              "      <td>...</td>\n",
              "      <td>NaN</td>\n",
              "      <td>['Locus Award Nominee for Best Young Adult Boo...</td>\n",
              "      <td>6376780</td>\n",
              "      <td>['3444695', '1921313', '745221', '171994', '93...</td>\n",
              "      <td>96.0</td>\n",
              "      <td>['District 12, Panem', 'Capitol, Panem', 'Pane...</td>\n",
              "      <td>https://i.gr-assets.com/images/S/compressed.ph...</td>\n",
              "      <td>2993816</td>\n",
              "      <td>30516</td>\n",
              "      <td>5.09</td>\n",
              "    </tr>\n",
              "    <tr>\n",
              "      <th>1</th>\n",
              "      <td>2.Harry_Potter_and_the_Order_of_the_Phoenix</td>\n",
              "      <td>Harry Potter and the Order of the Phoenix</td>\n",
              "      <td>Harry Potter #5</td>\n",
              "      <td>J.K. Rowling, Mary GrandPré (Illustrator)</td>\n",
              "      <td>4.50</td>\n",
              "      <td>There is a door at the end of a silent corrido...</td>\n",
              "      <td>English</td>\n",
              "      <td>9780439358071</td>\n",
              "      <td>['Fantasy', 'Young Adult', 'Fiction', 'Magic',...</td>\n",
              "      <td>['Sirius Black', 'Draco Malfoy', 'Ron Weasley'...</td>\n",
              "      <td>...</td>\n",
              "      <td>06/21/03</td>\n",
              "      <td>['Bram Stoker Award for Works for Young Reader...</td>\n",
              "      <td>2507623</td>\n",
              "      <td>['1593642', '637516', '222366', '39573', '14526']</td>\n",
              "      <td>98.0</td>\n",
              "      <td>['Hogwarts School of Witchcraft and Wizardry (...</td>\n",
              "      <td>https://i.gr-assets.com/images/S/compressed.ph...</td>\n",
              "      <td>2632233</td>\n",
              "      <td>26923</td>\n",
              "      <td>7.38</td>\n",
              "    </tr>\n",
              "    <tr>\n",
              "      <th>2</th>\n",
              "      <td>2657.To_Kill_a_Mockingbird</td>\n",
              "      <td>To Kill a Mockingbird</td>\n",
              "      <td>To Kill a Mockingbird</td>\n",
              "      <td>Harper Lee</td>\n",
              "      <td>4.28</td>\n",
              "      <td>The unforgettable novel of a childhood in a sl...</td>\n",
              "      <td>English</td>\n",
              "      <td>9999999999999</td>\n",
              "      <td>['Classics', 'Fiction', 'Historical Fiction', ...</td>\n",
              "      <td>['Scout Finch', 'Atticus Finch', 'Jem Finch', ...</td>\n",
              "      <td>...</td>\n",
              "      <td>07/11/60</td>\n",
              "      <td>['Pulitzer Prize for Fiction (1961)', 'Audie A...</td>\n",
              "      <td>4501075</td>\n",
              "      <td>['2363896', '1333153', '573280', '149952', '80...</td>\n",
              "      <td>95.0</td>\n",
              "      <td>['Maycomb, Alabama (United States)']</td>\n",
              "      <td>https://i.gr-assets.com/images/S/compressed.ph...</td>\n",
              "      <td>2269402</td>\n",
              "      <td>23328</td>\n",
              "      <td>NaN</td>\n",
              "    </tr>\n",
              "    <tr>\n",
              "      <th>3</th>\n",
              "      <td>1885.Pride_and_Prejudice</td>\n",
              "      <td>Pride and Prejudice</td>\n",
              "      <td>NaN</td>\n",
              "      <td>Jane Austen, Anna Quindlen (Introduction)</td>\n",
              "      <td>4.26</td>\n",
              "      <td>Alternate cover edition of ISBN 9780679783268S...</td>\n",
              "      <td>English</td>\n",
              "      <td>9999999999999</td>\n",
              "      <td>['Classics', 'Fiction', 'Romance', 'Historical...</td>\n",
              "      <td>['Mr. Bennet', 'Mrs. Bennet', 'Jane Bennet', '...</td>\n",
              "      <td>...</td>\n",
              "      <td>01/28/13</td>\n",
              "      <td>[]</td>\n",
              "      <td>2998241</td>\n",
              "      <td>['1617567', '816659', '373311', '113934', '767...</td>\n",
              "      <td>94.0</td>\n",
              "      <td>['United Kingdom', 'Derbyshire, England (Unite...</td>\n",
              "      <td>https://i.gr-assets.com/images/S/compressed.ph...</td>\n",
              "      <td>1983116</td>\n",
              "      <td>20452</td>\n",
              "      <td>NaN</td>\n",
              "    </tr>\n",
              "    <tr>\n",
              "      <th>4</th>\n",
              "      <td>41865.Twilight</td>\n",
              "      <td>Twilight</td>\n",
              "      <td>The Twilight Saga #1</td>\n",
              "      <td>Stephenie Meyer</td>\n",
              "      <td>3.60</td>\n",
              "      <td>About three things I was absolutely positive.\\...</td>\n",
              "      <td>English</td>\n",
              "      <td>9780316015844</td>\n",
              "      <td>['Young Adult', 'Fantasy', 'Romance', 'Vampire...</td>\n",
              "      <td>['Edward Cullen', 'Jacob Black', 'Laurent', 'R...</td>\n",
              "      <td>...</td>\n",
              "      <td>10/05/05</td>\n",
              "      <td>['Georgia Peach Book Award (2007)', 'Buxtehude...</td>\n",
              "      <td>4964519</td>\n",
              "      <td>['1751460', '1113682', '1008686', '542017', '5...</td>\n",
              "      <td>78.0</td>\n",
              "      <td>['Forks, Washington (United States)', 'Phoenix...</td>\n",
              "      <td>https://i.gr-assets.com/images/S/compressed.ph...</td>\n",
              "      <td>1459448</td>\n",
              "      <td>14874</td>\n",
              "      <td>2.1</td>\n",
              "    </tr>\n",
              "    <tr>\n",
              "      <th>...</th>\n",
              "      <td>...</td>\n",
              "      <td>...</td>\n",
              "      <td>...</td>\n",
              "      <td>...</td>\n",
              "      <td>...</td>\n",
              "      <td>...</td>\n",
              "      <td>...</td>\n",
              "      <td>...</td>\n",
              "      <td>...</td>\n",
              "      <td>...</td>\n",
              "      <td>...</td>\n",
              "      <td>...</td>\n",
              "      <td>...</td>\n",
              "      <td>...</td>\n",
              "      <td>...</td>\n",
              "      <td>...</td>\n",
              "      <td>...</td>\n",
              "      <td>...</td>\n",
              "      <td>...</td>\n",
              "      <td>...</td>\n",
              "      <td>...</td>\n",
              "    </tr>\n",
              "    <tr>\n",
              "      <th>52473</th>\n",
              "      <td>11492014-fractured</td>\n",
              "      <td>Fractured</td>\n",
              "      <td>Fateful #2</td>\n",
              "      <td>Cheri Schmidt (Goodreads Author)</td>\n",
              "      <td>4.00</td>\n",
              "      <td>The Fateful Trilogy continues with Fractured. ...</td>\n",
              "      <td>English</td>\n",
              "      <td>2940012616562</td>\n",
              "      <td>['Vampires', 'Paranormal', 'Young Adult', 'Rom...</td>\n",
              "      <td>[]</td>\n",
              "      <td>...</td>\n",
              "      <td>NaN</td>\n",
              "      <td>[]</td>\n",
              "      <td>871</td>\n",
              "      <td>['311', '310', '197', '42', '11']</td>\n",
              "      <td>94.0</td>\n",
              "      <td>[]</td>\n",
              "      <td>https://i.gr-assets.com/images/S/compressed.ph...</td>\n",
              "      <td>0</td>\n",
              "      <td>1</td>\n",
              "      <td>NaN</td>\n",
              "    </tr>\n",
              "    <tr>\n",
              "      <th>52474</th>\n",
              "      <td>11836711-anasazi</td>\n",
              "      <td>Anasazi</td>\n",
              "      <td>Sense of Truth #2</td>\n",
              "      <td>Emma Michaels</td>\n",
              "      <td>4.19</td>\n",
              "      <td>'Anasazi', sequel to 'The Thirteenth Chime' by...</td>\n",
              "      <td>English</td>\n",
              "      <td>9999999999999</td>\n",
              "      <td>['Mystery', 'Young Adult']</td>\n",
              "      <td>[]</td>\n",
              "      <td>...</td>\n",
              "      <td>August 3rd 2011</td>\n",
              "      <td>[]</td>\n",
              "      <td>37</td>\n",
              "      <td>['16', '14', '5', '2', '0']</td>\n",
              "      <td>95.0</td>\n",
              "      <td>[]</td>\n",
              "      <td>https://i.gr-assets.com/images/S/compressed.ph...</td>\n",
              "      <td>0</td>\n",
              "      <td>1</td>\n",
              "      <td>NaN</td>\n",
              "    </tr>\n",
              "    <tr>\n",
              "      <th>52475</th>\n",
              "      <td>10815662-marked</td>\n",
              "      <td>Marked</td>\n",
              "      <td>Soul Guardians #1</td>\n",
              "      <td>Kim Richardson (Goodreads Author)</td>\n",
              "      <td>3.70</td>\n",
              "      <td>--READERS FAVORITE AWARDS WINNER 2011--Sixteen...</td>\n",
              "      <td>English</td>\n",
              "      <td>9781461017097</td>\n",
              "      <td>['Fantasy', 'Young Adult', 'Paranormal', 'Ange...</td>\n",
              "      <td>[]</td>\n",
              "      <td>...</td>\n",
              "      <td>March 15th 2011</td>\n",
              "      <td>[\"Readers' Favorite Book Award (2011)\"]</td>\n",
              "      <td>6674</td>\n",
              "      <td>['2109', '1868', '1660', '647', '390']</td>\n",
              "      <td>84.0</td>\n",
              "      <td>[]</td>\n",
              "      <td>https://i.gr-assets.com/images/S/compressed.ph...</td>\n",
              "      <td>0</td>\n",
              "      <td>1</td>\n",
              "      <td>7.37</td>\n",
              "    </tr>\n",
              "    <tr>\n",
              "      <th>52476</th>\n",
              "      <td>11330278-wayward-son</td>\n",
              "      <td>Wayward Son</td>\n",
              "      <td>NaN</td>\n",
              "      <td>Tom Pollack (Goodreads Author), John Loftus (G...</td>\n",
              "      <td>3.85</td>\n",
              "      <td>A POWERFUL TREMOR UNEARTHS AN ANCIENT SECRETBu...</td>\n",
              "      <td>English</td>\n",
              "      <td>9781450755634</td>\n",
              "      <td>['Fiction', 'Mystery', 'Historical Fiction', '...</td>\n",
              "      <td>[]</td>\n",
              "      <td>...</td>\n",
              "      <td>April 5th 2011</td>\n",
              "      <td>[]</td>\n",
              "      <td>238</td>\n",
              "      <td>['77', '78', '59', '19', '5']</td>\n",
              "      <td>90.0</td>\n",
              "      <td>[]</td>\n",
              "      <td>https://i.gr-assets.com/images/S/compressed.ph...</td>\n",
              "      <td>0</td>\n",
              "      <td>1</td>\n",
              "      <td>2.86</td>\n",
              "    </tr>\n",
              "    <tr>\n",
              "      <th>52477</th>\n",
              "      <td>10991547-daughter-of-helaman</td>\n",
              "      <td>Daughter of Helaman</td>\n",
              "      <td>Stripling Warrior #1</td>\n",
              "      <td>Misty Moncur (Goodreads Author)</td>\n",
              "      <td>4.02</td>\n",
              "      <td>Fighting in Helaman's army is Keturah's deepes...</td>\n",
              "      <td>English</td>\n",
              "      <td>9781599554976</td>\n",
              "      <td>['Lds Fiction', 'Historical Fiction', 'Young A...</td>\n",
              "      <td>[]</td>\n",
              "      <td>...</td>\n",
              "      <td>NaN</td>\n",
              "      <td>[]</td>\n",
              "      <td>246</td>\n",
              "      <td>['106', '73', '42', '17', '8']</td>\n",
              "      <td>90.0</td>\n",
              "      <td>[]</td>\n",
              "      <td>https://i.gr-assets.com/images/S/compressed.ph...</td>\n",
              "      <td>0</td>\n",
              "      <td>1</td>\n",
              "      <td>5.20</td>\n",
              "    </tr>\n",
              "  </tbody>\n",
              "</table>\n",
              "<p>44034 rows × 25 columns</p>\n",
              "</div>\n",
              "      <button class=\"colab-df-convert\" onclick=\"convertToInteractive('df-be5f918f-feb9-4730-85d5-9d3b36d8e207')\"\n",
              "              title=\"Convert this dataframe to an interactive table.\"\n",
              "              style=\"display:none;\">\n",
              "        \n",
              "  <svg xmlns=\"http://www.w3.org/2000/svg\" height=\"24px\"viewBox=\"0 0 24 24\"\n",
              "       width=\"24px\">\n",
              "    <path d=\"M0 0h24v24H0V0z\" fill=\"none\"/>\n",
              "    <path d=\"M18.56 5.44l.94 2.06.94-2.06 2.06-.94-2.06-.94-.94-2.06-.94 2.06-2.06.94zm-11 1L8.5 8.5l.94-2.06 2.06-.94-2.06-.94L8.5 2.5l-.94 2.06-2.06.94zm10 10l.94 2.06.94-2.06 2.06-.94-2.06-.94-.94-2.06-.94 2.06-2.06.94z\"/><path d=\"M17.41 7.96l-1.37-1.37c-.4-.4-.92-.59-1.43-.59-.52 0-1.04.2-1.43.59L10.3 9.45l-7.72 7.72c-.78.78-.78 2.05 0 2.83L4 21.41c.39.39.9.59 1.41.59.51 0 1.02-.2 1.41-.59l7.78-7.78 2.81-2.81c.8-.78.8-2.07 0-2.86zM5.41 20L4 18.59l7.72-7.72 1.47 1.35L5.41 20z\"/>\n",
              "  </svg>\n",
              "      </button>\n",
              "      \n",
              "  <style>\n",
              "    .colab-df-container {\n",
              "      display:flex;\n",
              "      flex-wrap:wrap;\n",
              "      gap: 12px;\n",
              "    }\n",
              "\n",
              "    .colab-df-convert {\n",
              "      background-color: #E8F0FE;\n",
              "      border: none;\n",
              "      border-radius: 50%;\n",
              "      cursor: pointer;\n",
              "      display: none;\n",
              "      fill: #1967D2;\n",
              "      height: 32px;\n",
              "      padding: 0 0 0 0;\n",
              "      width: 32px;\n",
              "    }\n",
              "\n",
              "    .colab-df-convert:hover {\n",
              "      background-color: #E2EBFA;\n",
              "      box-shadow: 0px 1px 2px rgba(60, 64, 67, 0.3), 0px 1px 3px 1px rgba(60, 64, 67, 0.15);\n",
              "      fill: #174EA6;\n",
              "    }\n",
              "\n",
              "    [theme=dark] .colab-df-convert {\n",
              "      background-color: #3B4455;\n",
              "      fill: #D2E3FC;\n",
              "    }\n",
              "\n",
              "    [theme=dark] .colab-df-convert:hover {\n",
              "      background-color: #434B5C;\n",
              "      box-shadow: 0px 1px 3px 1px rgba(0, 0, 0, 0.15);\n",
              "      filter: drop-shadow(0px 1px 2px rgba(0, 0, 0, 0.3));\n",
              "      fill: #FFFFFF;\n",
              "    }\n",
              "  </style>\n",
              "\n",
              "      <script>\n",
              "        const buttonEl =\n",
              "          document.querySelector('#df-be5f918f-feb9-4730-85d5-9d3b36d8e207 button.colab-df-convert');\n",
              "        buttonEl.style.display =\n",
              "          google.colab.kernel.accessAllowed ? 'block' : 'none';\n",
              "\n",
              "        async function convertToInteractive(key) {\n",
              "          const element = document.querySelector('#df-be5f918f-feb9-4730-85d5-9d3b36d8e207');\n",
              "          const dataTable =\n",
              "            await google.colab.kernel.invokeFunction('convertToInteractive',\n",
              "                                                     [key], {});\n",
              "          if (!dataTable) return;\n",
              "\n",
              "          const docLinkHtml = 'Like what you see? Visit the ' +\n",
              "            '<a target=\"_blank\" href=https://colab.research.google.com/notebooks/data_table.ipynb>data table notebook</a>'\n",
              "            + ' to learn more about interactive tables.';\n",
              "          element.innerHTML = '';\n",
              "          dataTable['output_type'] = 'display_data';\n",
              "          await google.colab.output.renderOutput(dataTable, element);\n",
              "          const docLink = document.createElement('div');\n",
              "          docLink.innerHTML = docLinkHtml;\n",
              "          element.appendChild(docLink);\n",
              "        }\n",
              "      </script>\n",
              "    </div>\n",
              "  </div>\n",
              "  "
            ]
          },
          "metadata": {},
          "execution_count": 65
        }
      ]
    },
    {
      "cell_type": "markdown",
      "source": [
        "## Preprocessing"
      ],
      "metadata": {
        "id": "tVZPMboLHkwh"
      }
    },
    {
      "cell_type": "markdown",
      "source": [
        "* Creating 5 new columns: `ratingStar5`, `ratingStar4`, `ratingStar3`, `ratingStar2`, `ratingStar1` based on the `ratingsByStars` column."
      ],
      "metadata": {
        "id": "feDbot4iKAP9"
      }
    },
    {
      "cell_type": "code",
      "source": [
        "# Convert column to actual list instead of str\n",
        "df['ratingsByStars'] = df['ratingsByStars'].apply(ast.literal_eval)"
      ],
      "metadata": {
        "id": "MwDvo_fVpAmo"
      },
      "execution_count": null,
      "outputs": []
    },
    {
      "cell_type": "code",
      "source": [
        "# Remove records that have missing information in 'ratingsByStars' column\n",
        "# -----------------------------------------------------------------------\n",
        "# List of records to be removed\n",
        "to_remove = []\n",
        "\n",
        "# Iterate over the records\n",
        "for index, row in df.iterrows():\n",
        "  # If no ratings for every Star\n",
        "  if len(row['ratingsByStars']) != 5:\n",
        "    # Append record index to be_removed\n",
        "    to_remove.append(index)\n",
        "\n",
        "# Remove records that do not qualify\n",
        "df.drop(to_remove, inplace=True)"
      ],
      "metadata": {
        "id": "B80KUHMiVDU0"
      },
      "execution_count": null,
      "outputs": []
    },
    {
      "cell_type": "code",
      "source": [
        "df['ratingStar5'] = df['ratingsByStars'].apply(lambda x: x[0])\n",
        "df['ratingStar4'] = df['ratingsByStars'].apply(lambda x: x[1])\n",
        "df['ratingStar3'] = df['ratingsByStars'].apply(lambda x: x[2])\n",
        "df['ratingStar2'] = df['ratingsByStars'].apply(lambda x: x[3])\n",
        "df['ratingStar1'] = df['ratingsByStars'].apply(lambda x: x[4])"
      ],
      "metadata": {
        "id": "fP-_YbbBJXvu"
      },
      "execution_count": null,
      "outputs": []
    },
    {
      "cell_type": "markdown",
      "source": [
        "* Creating a new column called `genreSingle` based on the `genres` column and deleting records that do not contain any information about the book genre."
      ],
      "metadata": {
        "id": "9efMFoSPKkxF"
      }
    },
    {
      "cell_type": "code",
      "source": [
        "# Convert column to actual list instead of str\n",
        "df['genres'] = df['genres'].apply(ast.literal_eval)"
      ],
      "metadata": {
        "id": "0VLZ7Go2rtyk"
      },
      "execution_count": null,
      "outputs": []
    },
    {
      "cell_type": "code",
      "source": [
        "# Remove records that have missing information in 'genres' column\n",
        "# ---------------------------------------------------------------\n",
        "# List of records to be removed\n",
        "to_remove = []\n",
        "\n",
        "# Iterate over the records\n",
        "for index, row in df.iterrows():\n",
        "  # If no info in 'genres'\n",
        "  if len(row['genres']) == 0:\n",
        "    # Append record index to be_removed\n",
        "    to_remove.append(index)\n",
        "\n",
        "# Remove records that do not qualify\n",
        "df.drop(to_remove, inplace=True)"
      ],
      "metadata": {
        "id": "9PTNbAuqVvdh"
      },
      "execution_count": null,
      "outputs": []
    },
    {
      "cell_type": "code",
      "source": [
        "# Create new column 'genreSingle'\n",
        "df['genreSingle'] = df['genres'].apply(lambda x: x[0])"
      ],
      "metadata": {
        "id": "bXbBAFHSUVii"
      },
      "execution_count": null,
      "outputs": []
    },
    {
      "cell_type": "markdown",
      "source": [
        "* Creating a new column named `publishYear` which contains the publication year of each book, based on the `publishDate` column."
      ],
      "metadata": {
        "id": "aKT0PAl9vaH-"
      }
    },
    {
      "cell_type": "code",
      "source": [
        "df['publishDate']"
      ],
      "metadata": {
        "id": "H0Vqn-LB3Bgf",
        "colab": {
          "base_uri": "https://localhost:8080/"
        },
        "outputId": "29a95085-0947-43ca-fd0e-2e24a5f7dde0"
      },
      "execution_count": null,
      "outputs": [
        {
          "output_type": "execute_result",
          "data": {
            "text/plain": [
              "0                  09/14/08\n",
              "1                  09/28/04\n",
              "2                  05/23/06\n",
              "3                  10/10/00\n",
              "4                  09/06/06\n",
              "                ...        \n",
              "52473         May 28th 2011\n",
              "52474       August 5th 2011\n",
              "52475       March 18th 2011\n",
              "52476    September 1st 2011\n",
              "52477          May 8th 2011\n",
              "Name: publishDate, Length: 41572, dtype: object"
            ]
          },
          "metadata": {},
          "execution_count": 72
        }
      ]
    },
    {
      "cell_type": "markdown",
      "source": [
        "First of all, we need to convert the `publishDate` column to a DateTime object. However, we observe that it contains dates in different formats as well as various other inputs that do not represent dates. So, we will iterate through all the dates in the publishDate column and attempt to convert them to a datetime object using the [`to_datetime`](https://pandas.pydata.org/docs/reference/api/pandas.to_datetime.html) function. If it fails, it means the conversion couldn't be made, so we'll drop that specific record from our dataframe."
      ],
      "metadata": {
        "id": "ZRcW46u02IrY"
      }
    },
    {
      "cell_type": "code",
      "source": [
        "# List of records to be removed\n",
        "to_remove = []\n",
        "\n",
        "# Iterate over the records\n",
        "for index, row in df.iterrows():\n",
        "  try:\n",
        "    # Try to convert to datetime\n",
        "    df.at[index, 'publishDate'] = pd.to_datetime(row['publishDate'])\n",
        "  except ValueError:\n",
        "    # Append record index to be_removed if convert fails\n",
        "    to_remove.append(index)\n",
        "\n",
        "# Remove records that do not qualify\n",
        "df.drop(to_remove, inplace=True)\n",
        "\n",
        "df['publishDate'] = pd.to_datetime(df['publishDate'])"
      ],
      "metadata": {
        "id": "6UNQXJhdTYAe"
      },
      "execution_count": null,
      "outputs": []
    },
    {
      "cell_type": "markdown",
      "source": [
        "Now that we have all the dates as datetime objects and in the same format, we can create the new column `publishYear` as requested."
      ],
      "metadata": {
        "id": "qWefb1Jo2dB0"
      }
    },
    {
      "cell_type": "code",
      "source": [
        "df['publishYear'] = df['publishDate'].dt.year.astype(int)"
      ],
      "metadata": {
        "id": "Pzrc_GeP2cfe"
      },
      "execution_count": null,
      "outputs": []
    },
    {
      "cell_type": "markdown",
      "source": [
        "## Queries for data analysis"
      ],
      "metadata": {
        "id": "jY7dfqdAJJL4"
      }
    },
    {
      "cell_type": "markdown",
      "source": [
        "1. Construct the histogram of ratings in the dataset (use the rating column)."
      ],
      "metadata": {
        "id": "f-PrQdE7TXdy"
      }
    },
    {
      "cell_type": "code",
      "source": [
        "plt.hist(df['rating'], color='#23AAAA', edgecolor='black')\n",
        "plt.title('Ratings Histogram')\n",
        "plt.xlabel('Ratings')"
      ],
      "metadata": {
        "id": "nMgGWLQkDTqE",
        "colab": {
          "base_uri": "https://localhost:8080/",
          "height": 489
        },
        "outputId": "89b9fc62-fc83-4c9e-acaf-e153c6cf234f"
      },
      "execution_count": null,
      "outputs": [
        {
          "output_type": "execute_result",
          "data": {
            "text/plain": [
              "Text(0.5, 0, 'Ratings')"
            ]
          },
          "metadata": {},
          "execution_count": 75
        },
        {
          "output_type": "display_data",
          "data": {
            "text/plain": [
              "<Figure size 640x480 with 1 Axes>"
            ],
            "image/png": "[encoded data removed]"
          },
          "metadata": {}
        }
      ]
    },
    {
      "cell_type": "markdown",
      "source": [
        "2. What are the top 10 books with the most pages?"
      ],
      "metadata": {
        "id": "jew3QAQGTdXk"
      }
    },
    {
      "cell_type": "code",
      "source": [
        "# Remove records that have invalid information in 'pages'\n",
        "# -------------------------------------------------------\n",
        "# List of records to be removed\n",
        "to_remove = []\n",
        "\n",
        "# Iterate over the records\n",
        "for index, row in df.iterrows():\n",
        "  # If 'pages' does not contain number\n",
        "  if not row['pages'].isdigit():\n",
        "    # Append record index to be_removed\n",
        "    to_remove.append(index)\n",
        "\n",
        "# Remove records that do not qualify\n",
        "df.drop(to_remove, inplace=True)\n",
        "\n",
        "# Convert from 'object' to 'int'\n",
        "df['pages'] = df['pages'].astype(int)"
      ],
      "metadata": {
        "id": "jo_oZAHZPzNZ"
      },
      "execution_count": null,
      "outputs": []
    },
    {
      "cell_type": "code",
      "source": [
        "# Sort in descending order of column 'pages'\n",
        "# and store the first 10 rows into a new dataframe called 'most_pages'\n",
        "most_pages = df.sort_values(by='pages', ascending=False).head(10)\n",
        "\n",
        "plt.bar(range(10), most_pages['pages'], color=['#23AAAA'], edgecolor='black')\n",
        "plt.title('The 10 books with the most pages')\n",
        "plt.xlabel('Book Title')\n",
        "plt.ylabel('Number of Pages')\n",
        "plt.xticks(range(10), most_pages['title'], rotation=90)\n",
        "plt.show()"
      ],
      "metadata": {
        "id": "FYacnbSCFgvQ",
        "colab": {
          "base_uri": "https://localhost:8080/",
          "height": 1000
        },
        "outputId": "61392052-1daa-475d-a339-e9d0cfbef9b4"
      },
      "execution_count": null,
      "outputs": [
        {
          "output_type": "display_data",
          "data": {
            "text/plain": [
              "<Figure size 640x480 with 1 Axes>"
            ],
            "image/png": "[encoded data removed]"
          },
          "metadata": {}
        }
      ]
    },
    {
      "cell_type": "markdown",
      "source": [
        "5. Who are the top 10 authors with the most books?"
      ],
      "metadata": {
        "id": "6pVJ5bSlTnEA"
      }
    },
    {
      "cell_type": "code",
      "source": [
        "# Keep ONLY the first name in column \"Author\"\n",
        "# Separator is either '(' OR ','\n",
        "df['author'] = df['author'].str.split('\\(|,').str[0]"
      ],
      "metadata": {
        "id": "uOdG1jkhP6Se"
      },
      "execution_count": null,
      "outputs": []
    },
    {
      "cell_type": "code",
      "source": [
        "# Calculate count of unique values of column 'author'\n",
        "# and store the first 10 rows into 'most_books' in descending order\n",
        "most_books = df['author'].value_counts(ascending=False).head(10)\n",
        "\n",
        "plt.bar(most_books.index, most_books.values, color=['#23AAAA'], edgecolor='black')\n",
        "plt.title('The 10 authors with the most books')\n",
        "plt.xlabel('Author')\n",
        "plt.ylabel('Number of Books')\n",
        "plt.xticks(rotation=90)\n",
        "plt.show()"
      ],
      "metadata": {
        "id": "SGDaSgBmOC0S",
        "colab": {
          "base_uri": "https://localhost:8080/",
          "height": 576
        },
        "outputId": "f849da4f-2337-42b5-efda-05e31ad31cd6"
      },
      "execution_count": null,
      "outputs": [
        {
          "output_type": "display_data",
          "data": {
            "text/plain": [
              "<Figure size 640x480 with 1 Axes>"
            ],
            "image/png": "[encoded data removed]"
          },
          "metadata": {}
        }
      ]
    },
    {
      "cell_type": "markdown",
      "source": [
        "6. Who are the top 10 authors with the most ratings? (use the numRatings column)"
      ],
      "metadata": {
        "id": "EaKsovNGTo1D"
      }
    },
    {
      "cell_type": "code",
      "source": [
        "# Convert from 'object' to 'int'\n",
        "df['numRatings'] = df['numRatings'].astype(int)"
      ],
      "metadata": {
        "id": "UDB141xHP_Ak"
      },
      "execution_count": null,
      "outputs": []
    },
    {
      "cell_type": "code",
      "source": [
        "# Sum all Ratings per Author\n",
        "most_ratings = df.groupby('author')['numRatings'].sum()\n",
        "\n",
        "# Sort in descending order and keep the first 10 rows\n",
        "most_ratings = most_ratings.sort_values(ascending=False).head(10)\n",
        "\n",
        "plt.bar(most_ratings.index, most_ratings.values, color=['#23AAAA'], edgecolor='black')\n",
        "plt.title('The 10 authors with the most ratings')\n",
        "plt.xlabel('Author')\n",
        "plt.ylabel('Number of Ratings')\n",
        "plt.xticks(rotation=90)\n",
        "plt.ticklabel_format(style='plain', axis='y')\n",
        "plt.show()"
      ],
      "metadata": {
        "id": "zWq-o06vRr93",
        "colab": {
          "base_uri": "https://localhost:8080/",
          "height": 576
        },
        "outputId": "488baec7-f213-497c-ebad-c5cf09a0548e"
      },
      "execution_count": null,
      "outputs": [
        {
          "output_type": "display_data",
          "data": {
            "text/plain": [
              "<Figure size 640x480 with 1 Axes>"
            ],
            "image/png": "[encoded data removed]"
          },
          "metadata": {}
        }
      ]
    },
    {
      "cell_type": "markdown",
      "source": [
        "9. Who are the top 10 publishers who have published the most books?"
      ],
      "metadata": {
        "id": "u3ZXraUrTvI3"
      }
    },
    {
      "cell_type": "code",
      "source": [
        "# Calculate count of unique values of column 'publisher'\n",
        "# and store the first 10 rows into 'most_books_publishers' in descending order\n",
        "most_books_publishers = df['publisher'].value_counts(ascending=False).head(10)\n",
        "\n",
        "plt.bar(most_books_publishers.index, most_books_publishers.values,\n",
        "        color=['#23AAAA'], edgecolor='black')\n",
        "plt.title('The 10 publishers with the most books published')\n",
        "plt.xlabel('Publisher')\n",
        "plt.ylabel('Number of Books Published')\n",
        "plt.xticks(rotation=90)\n",
        "plt.show()"
      ],
      "metadata": {
        "id": "WGq_8TyjU6GC",
        "colab": {
          "base_uri": "https://localhost:8080/",
          "height": 574
        },
        "outputId": "0358dec0-5b9c-45b7-ab4e-271f07c00d00"
      },
      "execution_count": null,
      "outputs": [
        {
          "output_type": "display_data",
          "data": {
            "text/plain": [
              "<Figure size 640x480 with 1 Axes>"
            ],
            "image/png": "[encoded data removed]"
          },
          "metadata": {}
        }
      ]
    },
    {
      "cell_type": "markdown",
      "source": [
        "## Implementing a Recommendation System"
      ],
      "metadata": {
        "id": "4-ezSqhzJN2K"
      }
    },
    {
      "cell_type": "markdown",
      "source": [
        "Initially, we observe that in the `bookId` column there are characters/text besides the book IDs. Οπότε, So, we will extract only the information that we need and will be necessary for the implementation of the Recommendation System."
      ],
      "metadata": {
        "id": "UQQc3VDIB4y9"
      }
    },
    {
      "cell_type": "code",
      "source": [
        "# Keep ONLY the bookId\n",
        "# Separator is either '.' OR '-'\n",
        "df['bookId'] = df['bookId'].str.split('.').str[0]\n",
        "df['bookId'] = df['bookId'].str.split('-').str[0]\n",
        "\n",
        "# Convert to int\n",
        "df['bookId'] = df['bookId'].astype(int)"
      ],
      "metadata": {
        "id": "oU5IZPUlgfF0"
      },
      "execution_count": null,
      "outputs": []
    },
    {
      "cell_type": "markdown",
      "source": [
        "We are only interested in the rows where the language is \"English\"."
      ],
      "metadata": {
        "id": "_as-XBsqFNKB"
      }
    },
    {
      "cell_type": "code",
      "source": [
        "from sklearn.feature_extraction.text import TfidfVectorizer\n",
        "from sklearn.metrics.pairwise import cosine_similarity\n",
        "\n",
        "# Take only the records in English\n",
        "eng_df = df[df['language'] == 'English']\n",
        "\n",
        "# Re-arrange indexes so they're continuous\n",
        "eng_df.reset_index(drop=True, inplace=True)\n",
        "\n",
        "# Limitation because we run out of RAM in Google Colab\n",
        "limit = 12000"
      ],
      "metadata": {
        "id": "AdjbQzTVFHLt"
      },
      "execution_count": null,
      "outputs": []
    },
    {
      "cell_type": "markdown",
      "source": [
        "Next, we proceed with creating the `TF-IDF` matrix for the `unigrams` in the `description` column. We use the [`cosine_similarity()`](https://scikit-learn.org/stable/modules/generated/sklearn.metrics.pairwise.cosine_similarity.html) function to calculate the `Cosine Similarity` metric and create a Python Dictionary containing the 100 most similar books.\n",
        "\n",
        "Specifically, in this Python dictionary, we have the `bookId` of each book as the `key`, and as the `value`, an `ndarray` containing the 100 `indexes` needed from the `similarity_matrix`."
      ],
      "metadata": {
        "id": "WmENyU8XCWBg"
      }
    },
    {
      "cell_type": "code",
      "source": [
        "# Create the TF-IDF matrix (unigrams)\n",
        "tfidf_vectorizer_unigrams = TfidfVectorizer(min_df=2, stop_words='english', ngram_range=(1, 1))\n",
        "tfidf_vectorizer_unigrams.fit(eng_df['description'])\n",
        "tfidf_unigrams = tfidf_vectorizer_unigrams.transform(eng_df['description'].head(limit)) # Limitation of resources\n",
        "\n",
        "similarity_matrix_unigrams = cosine_similarity(tfidf_unigrams, tfidf_unigrams)\n",
        "\n",
        "unigrams_dict = {}  # Key = book_id | Value = ndarray containing 100 most similar books' indexes\n",
        "for book_id, row in zip(eng_df['bookId'], similarity_matrix_unigrams):\n",
        "  # Get the indexes of cosine similarity scores in descending order (highest first)\n",
        "  # and from all those, keep only the first 100 (most similar)\n",
        "  # Get rid of the first as it's the book itself (similarity score = 1.0)\n",
        "  most_similar = np.argsort(row)[::-1][1:101]\n",
        "  unigrams_dict[book_id] = most_similar"
      ],
      "metadata": {
        "id": "oJd7Tti6Lu6q"
      },
      "execution_count": null,
      "outputs": []
    },
    {
      "cell_type": "markdown",
      "source": [
        "Similarly, for `bigrams`."
      ],
      "metadata": {
        "id": "9-nUL1zOCo3q"
      }
    },
    {
      "cell_type": "code",
      "source": [
        "# Create the TF-IDF matrix (bigrams)\n",
        "tfidf_vectorizer_bigrams = TfidfVectorizer(min_df=2, stop_words='english', ngram_range=(2, 2))\n",
        "tfidf_bigrams = tfidf_vectorizer_bigrams.fit_transform(eng_df['description'].head(limit)) # Limitation of resources\n",
        "\n",
        "similarity_matrix_bigrams = cosine_similarity(tfidf_bigrams, tfidf_bigrams)\n",
        "\n",
        "bigrams_dict = {} # Key = book_id | Value = ndarray containing 100 most similar books' indexes\n",
        "for book_id, row in zip(eng_df['bookId'], similarity_matrix_bigrams):\n",
        "  # Get the indexes of cosine similarity scores in descending order (highest first)\n",
        "  # and from all those, keep only the first 100 (most similar)\n",
        "  # Get rid of the first as it's the book itself (similarity score = 1.0)\n",
        "  most_similar = np.argsort(row)[::-1][1:101]\n",
        "  bigrams_dict[book_id] = most_similar"
      ],
      "metadata": {
        "id": "LRF_f7uIZ6WO"
      },
      "execution_count": null,
      "outputs": []
    },
    {
      "cell_type": "markdown",
      "source": [
        "Next, we create the `recommend()` function which takes an id and an integer number N as input, and returns the N most similar books.\n"
      ],
      "metadata": {
        "id": "IdcJSXiTFjoG"
      }
    },
    {
      "cell_type": "code",
      "source": [
        "def recommend(item_id, num, ngrams='unigrams'):\n",
        "  main_book = eng_df.loc[eng_df['bookId'] == item_id].index[0]\n",
        "\n",
        "  # Unigrams\n",
        "  if ngrams == 'unigrams':\n",
        "    unigrams_indexes = unigrams_dict[item_id][:num]\n",
        "    for recommended in unigrams_indexes:\n",
        "      print(f\"Recommended: {eng_df.iloc[recommended]['title']}\")\n",
        "      print(f\"Description: {eng_df.iloc[recommended]['description']}\")\n",
        "      print(f\"(score: {similarity_matrix_unigrams[main_book][recommended]})\\n\")\n",
        "  # Bigrams\n",
        "  elif ngrams == 'bigrams':\n",
        "    bigrams_indexes = bigrams_dict[item_id][:num]\n",
        "    for recommended in bigrams_indexes:\n",
        "      print(f\"Recommended: {eng_df.iloc[recommended]['title']}\")\n",
        "      print(f\"Description: {eng_df.iloc[recommended]['description']}\")\n",
        "      print(f\"(score: {similarity_matrix_bigrams[main_book][recommended]})\\n\")\n",
        "  # Error\n",
        "  else:\n",
        "    raise ValueError(f\"Not valid parameter ngrams='{ngrams}'\")"
      ],
      "metadata": {
        "id": "i5Ph74dmJYhQ"
      },
      "execution_count": null,
      "outputs": []
    },
    {
      "cell_type": "markdown",
      "source": [
        "Execution example of the `Recommendation System`."
      ],
      "metadata": {
        "id": "ojvbualnFcCY"
      }
    },
    {
      "cell_type": "code",
      "source": [
        "item_id = 1\n",
        "num = 5\n",
        "\n",
        "if eng_df.loc[eng_df['bookId'] == item_id].empty:\n",
        "  raise ValueError(\"No such 'bookId' exists. Try again\")\n",
        "elif eng_df.loc[eng_df['bookId'] == item_id].index >= limit:\n",
        "  raise ValueError(\"No such 'bookId' exists in Similarity Matrix. Try again\")\n",
        "\n",
        "if num < 1 or num > 100:\n",
        "  raise ValueError(\"Variable 'num' has to be between 1 and 100. Try again\")\n",
        "\n",
        "# Book's Title\n",
        "title = eng_df.loc[eng_df['bookId'] == item_id, 'title'].values[0]\n",
        "\n",
        "print(f\"Recommending {num} books similar to: {title}\")\n",
        "print(\"-----------------------------------------\")\n",
        "recommend(item_id, num, 'unigrams')\n",
        "print(\"-----------------------------------------\\n\")\n",
        "recommend(item_id, num, 'bigrams')"
      ],
      "metadata": {
        "id": "ifxsvgHtzUum",
        "colab": {
          "base_uri": "https://localhost:8080/"
        },
        "outputId": "22de4b2b-343b-43f5-89ba-a3dca1b8bf4b"
      },
      "execution_count": null,
      "outputs": [
        {
          "output_type": "stream",
          "name": "stdout",
          "text": [
            "Recommending 5 books similar to: Harry Potter and the Half-Blood Prince\n",
            "-----------------------------------------\n",
            "Recommended: Harry Potter and the Chamber of Secrets\n",
            "Description: Ever since Harry Potter had come home for the summer, the Dursleys had been so mean and hideous that all Harry wanted was to get back to the Hogwarts School for Witchcraft and Wizardry. But just as he’s packing his bags, Harry receives a warning from a strange impish creature who says that if Harry returns to Hogwarts, disaster will strike.And strike it does. For in Harry’s second year at Hogwarts, fresh torments and horrors arise, including an outrageously stuck-up new professor and a spirit who haunts the girls’ bathroom. But then the real trouble begins – someone is turning Hogwarts students to stone. Could it be Draco Malfoy, a more poisonous rival than ever? Could it possible be Hagrid, whose mysterious past is finally told? Or could it be the one everyone at Hogwarts most suspects… Harry Potter himself!\n",
            "(score: 0.35959273224722865)\n",
            "\n",
            "Recommended: Harry Potter and the Sorcerer's Stone\n",
            "Description: Harry Potter's life is miserable. His parents are dead and he's stuck with his heartless relatives, who force him to live in a tiny closet under the stairs. But his fortune changes when he receives a letter that tells him the truth about himself: he's a wizard. A mysterious visitor rescues him from his relatives and takes him to his new home, Hogwarts School of Witchcraft and Wizardry.After a lifetime of bottling up his magical powers, Harry finally feels like a normal kid. But even within the Wizarding community, he is special. He is the boy who lived: the only person to have ever survived a killing curse inflicted by the evil Lord Voldemort, who launched a brutal takeover of the Wizarding world, only to vanish after failing to kill Harry.Though Harry's first year at Hogwarts is the best of his life, not everything is perfect. There is a dangerous secret object hidden within the castle walls, and Harry believes it's his responsibility to prevent it from falling into evil hands. But doing so will bring him into contact with forces more terrifying than he ever could have imagined.Full of sympathetic characters, wildly imaginative situations, and countless exciting details, the first installment in the series assembles an unforgettable magical world and sets the stage for many high-stakes adventures to come.\n",
            "(score: 0.3125115119602252)\n",
            "\n",
            "Recommended: Harry Potter and the Prisoner of Azkaban\n",
            "Description: Harry Potter's third year at Hogwarts is full of new dangers. A convicted murderer, Sirius Black, has broken out of Azkaban prison, and it seems he's after Harry. Now Hogwarts is being patrolled by the dementors, the Azkaban guards who are hunting Sirius. But Harry can't imagine that Sirius or, for that matter, the evil Lord Voldemort could be more frightening than the dementors themselves, who have the terrible power to fill anyone they come across with aching loneliness and despair. Meanwhile, life continues as usual at Hogwarts. A top-of-the-line broom takes Harry's success at Quidditch, the sport of the Wizarding world, to new heights. A cute fourth-year student catches his eye. And he becomes close with the new Defense of the Dark Arts teacher, who was a childhood friend of his father. Yet despite the relative safety of life at Hogwarts and the best efforts of the dementors, the threat of Sirius Black grows ever closer. But if Harry has learned anything from his education in wizardry, it is that things are often not what they seem. Tragic revelations, heartwarming surprises, and high-stakes magical adventures await the boy wizard in this funny and poignant third installment of the beloved series.--scholastic.com\n",
            "(score: 0.304440596943643)\n",
            "\n",
            "Recommended: Harry Potter Boxed Set, Books 1-5 (Harry Potter, #1-5)\n",
            "Description: Box Set containing Harry Potter and the Sorcerer's Stone, Harry Potter and the Chamber Of Secrets, Harry Potter and the Prisoner of Azkaban, Harry Potter and the Goblet Of Fire, and Harry Potter and the Order of the Phoenix!\n",
            "(score: 0.28049523406599264)\n",
            "\n",
            "Recommended: Harry Potter and the Deathly Hallows\n",
            "Description: Harry Potter is leaving Privet Drive for the last time. But as he climbs into the sidecar of Hagrid’s motorbike and they take to the skies, he knows Lord Voldemort and the Death Eaters will not be far behind.The protective charm that has kept him safe until now is broken. But the Dark Lord is breathing fear into everything he loves. And he knows he can’t keep hiding.To stop Voldemort, Harry knows he must find the remaining Horcruxes and destroy them.He will have to face his enemy in one final battle.--jkrowling.com\n",
            "(score: 0.26329931944845175)\n",
            "\n",
            "-----------------------------------------\n",
            "\n",
            "Recommended: Selections from Harry Potter and the Order of the Phoenix: Piano Solos\n",
            "Description: Watching the characters from J.K. Rowling's Harry Potter and the Order of the Phoenix(tm) come alive is made only more delightful by the extraordinary soundtrack that enhances Harry, Hermione, Ron's adventures.Alfred presents this selection of music from the soundtrack to the major motion picture arranged for advanced solo piano. Titles are Dumbledore's Army * Fireworks * Flight of the Order of the Phoenix * Loved Ones & Leaving * The Ministry of Magic * Professor Umbridge * The Room of Requirement * (Bonus Selection) Hedwig's Theme.\n",
            "(score: 0.19134806995924786)\n",
            "\n",
            "Recommended: Harry Potter Boxed Set, Books 1-5 (Harry Potter, #1-5)\n",
            "Description: Box Set containing Harry Potter and the Sorcerer's Stone, Harry Potter and the Chamber Of Secrets, Harry Potter and the Prisoner of Azkaban, Harry Potter and the Goblet Of Fire, and Harry Potter and the Order of the Phoenix!\n",
            "(score: 0.18151501061387332)\n",
            "\n",
            "Recommended: Sunset at Blandings\n",
            "Description: Wodehouse died before finishing this novel, which uses the Blandings formula: a pretty niece brought to the castle to separate her from a suitor; suitor infiltrated under an assumed name by Gally; Lord Emsworth innocently blowing the gaff to an angry sister. Wodehouse's notes complete the story.\n",
            "(score: 0.14873021030266403)\n",
            "\n",
            "Recommended: The Harry Potter Collection 1-4\n",
            "Description: The exciting tales of Harry Potter, the young wizard-in-training, have taken the world by storm, and fans just can't get enough of the magical world of Hogwarts and beyond. If you buy one of the Harry Potter books, we guarantee you'll want the next...and the next...and the next -- so why not have them all, right at your fingertips? With the Harry Potter Hardcover Box Set (Books 1-4), Barnes amp; Noble.com offers simple one-stop shopping for your Harry Potter library! As easy as the wave of a magic wand, you can get all four Harry Potter books delivered to your doorstep at once.pThe Harry Potter Hardcover Box Set (Books 1-4) includes hardcover editions of iHarry Potter and the Sorcerer's Stone, Harry Potter and the Chamber of Secrets, Harry Potter and the Prisoner of Azkaban,/i and iHarry Potter and the Goblet of Fire./i The books come snugly packed in a sturdy cardboard slipcase, beautifully decorated with memorable scenes from the books.pSo buy the set, and not even a pesky Locomotor Mortis spell cast by the evil Lord Voldemor...(oooops, sorry -- He-Who-Must-Not-Be-Named) can get in the way of your enjoying all of the mystery, adventure, intrigue, and, of course, magic that Muggles around the world can't seem to get enough of. Hold on tight -- it's going to be a wild ride!\n",
            "(score: 0.12654814710577206)\n",
            "\n",
            "Recommended: Harry Potter and the Deathly Hallows\n",
            "Description: Harry Potter is leaving Privet Drive for the last time. But as he climbs into the sidecar of Hagrid’s motorbike and they take to the skies, he knows Lord Voldemort and the Death Eaters will not be far behind.The protective charm that has kept him safe until now is broken. But the Dark Lord is breathing fear into everything he loves. And he knows he can’t keep hiding.To stop Voldemort, Harry knows he must find the remaining Horcruxes and destroy them.He will have to face his enemy in one final battle.--jkrowling.com\n",
            "(score: 0.12278068515571793)\n",
            "\n"
          ]
        }
      ]
    },
    {
      "cell_type": "markdown",
      "source": [
        "## Implementation of Classification"
      ],
      "metadata": {
        "id": "CGrgeCunJRcx"
      }
    },
    {
      "cell_type": "markdown",
      "source": [
        "* We use the `genreSingle` column to find the top 10 most frequent genres."
      ],
      "metadata": {
        "id": "sMIlVw-p76an"
      }
    },
    {
      "cell_type": "code",
      "source": [
        "# Get the 10 most popular genres\n",
        "top10_genres = df['genreSingle'].value_counts().head(10).index\n",
        "\n",
        "print(top10_genres)"
      ],
      "metadata": {
        "id": "-jHsQlp9JY4i",
        "colab": {
          "base_uri": "https://localhost:8080/"
        },
        "outputId": "f3c6b9e0-b0f8-4453-f3b5-1d406be7cb0e"
      },
      "execution_count": null,
      "outputs": [
        {
          "output_type": "stream",
          "name": "stdout",
          "text": [
            "Index(['Fiction', 'Fantasy', 'Young Adult', 'Romance', 'Nonfiction',\n",
            "       'Historical Fiction', 'Mystery', 'Science Fiction', 'Classics',\n",
            "       'History'],\n",
            "      dtype='object')\n"
          ]
        }
      ]
    },
    {
      "cell_type": "markdown",
      "source": [
        "* Next, we keep in a new dataframe, the books that belong to these top 10 most frequent genres. We will only need the columns `bookId`, `description` and `genreSingle`."
      ],
      "metadata": {
        "id": "liIXHCEa8-9p"
      }
    },
    {
      "cell_type": "code",
      "source": [
        "# Create a copy of the previous DataFrame we had\n",
        "new_df = df.copy()\n",
        "\n",
        "# List of records to be removed\n",
        "to_remove = []\n",
        "\n",
        "# Iterate over the records\n",
        "for index, row in new_df.iterrows():\n",
        "  # If genre not in top10_genres\n",
        "  if row['genreSingle'] not in top10_genres:\n",
        "    # Append record index to be_removed\n",
        "    to_remove.append(index)\n",
        "\n",
        "# Remove records that do not qualify\n",
        "new_df.drop(to_remove, inplace=True)\n",
        "\n",
        "# Keep only 'bookId', 'description' and 'genreSingle' columns\n",
        "new_df = new_df[['bookId', 'description', 'genreSingle']]\n",
        "\n",
        "# Re-arrange indexes so they're continuous\n",
        "new_df.reset_index(drop=True, inplace=True)\n",
        "\n",
        "new_df"
      ],
      "metadata": {
        "id": "qRhbzR87A0Wu",
        "colab": {
          "base_uri": "https://localhost:8080/",
          "height": 424
        },
        "outputId": "18f8d0df-f387-40be-a198-0688e29657f2"
      },
      "execution_count": null,
      "outputs": [
        {
          "output_type": "execute_result",
          "data": {
            "text/plain": [
              "         bookId                                        description  \\\n",
              "0       2767052  WINNING MEANS FAME AND FORTUNE.LOSING MEANS CE...   \n",
              "1             2  There is a door at the end of a silent corrido...   \n",
              "2          2657  The unforgettable novel of a childhood in a sl...   \n",
              "3          1885  Alternate cover edition of ISBN 9780679783268S...   \n",
              "4         41865  About three things I was absolutely positive.\\...   \n",
              "...         ...                                                ...   \n",
              "25075  12464361  When seventeen-year-old Kara Nightingale is su...   \n",
              "25076  12395883  Lilah Lopez Dreser's in town to take care of u...   \n",
              "25077  11836711  'Anasazi', sequel to 'The Thirteenth Chime' by...   \n",
              "25078  10815662  --READERS FAVORITE AWARDS WINNER 2011--Sixteen...   \n",
              "25079  11330278  A POWERFUL TREMOR UNEARTHS AN ANCIENT SECRETBu...   \n",
              "\n",
              "       genreSingle  \n",
              "0      Young Adult  \n",
              "1          Fantasy  \n",
              "2         Classics  \n",
              "3         Classics  \n",
              "4      Young Adult  \n",
              "...            ...  \n",
              "25075      Fantasy  \n",
              "25076      Romance  \n",
              "25077      Mystery  \n",
              "25078      Fantasy  \n",
              "25079      Fiction  \n",
              "\n",
              "[25080 rows x 3 columns]"
            ],
            "text/html": [
              "\n",
              "  <div id=\"df-99eef2f5-2213-416f-80cd-543c14318219\">\n",
              "    <div class=\"colab-df-container\">\n",
              "      <div>\n",
              "<style scoped>\n",
              "    .dataframe tbody tr th:only-of-type {\n",
              "        vertical-align: middle;\n",
              "    }\n",
              "\n",
              "    .dataframe tbody tr th {\n",
              "        vertical-align: top;\n",
              "    }\n",
              "\n",
              "    .dataframe thead th {\n",
              "        text-align: right;\n",
              "    }\n",
              "</style>\n",
              "<table border=\"1\" class=\"dataframe\">\n",
              "  <thead>\n",
              "    <tr style=\"text-align: right;\">\n",
              "      <th></th>\n",
              "      <th>bookId</th>\n",
              "      <th>description</th>\n",
              "      <th>genreSingle</th>\n",
              "    </tr>\n",
              "  </thead>\n",
              "  <tbody>\n",
              "    <tr>\n",
              "      <th>0</th>\n",
              "      <td>2767052</td>\n",
              "      <td>WINNING MEANS FAME AND FORTUNE.LOSING MEANS CE...</td>\n",
              "      <td>Young Adult</td>\n",
              "    </tr>\n",
              "    <tr>\n",
              "      <th>1</th>\n",
              "      <td>2</td>\n",
              "      <td>There is a door at the end of a silent corrido...</td>\n",
              "      <td>Fantasy</td>\n",
              "    </tr>\n",
              "    <tr>\n",
              "      <th>2</th>\n",
              "      <td>2657</td>\n",
              "      <td>The unforgettable novel of a childhood in a sl...</td>\n",
              "      <td>Classics</td>\n",
              "    </tr>\n",
              "    <tr>\n",
              "      <th>3</th>\n",
              "      <td>1885</td>\n",
              "      <td>Alternate cover edition of ISBN 9780679783268S...</td>\n",
              "      <td>Classics</td>\n",
              "    </tr>\n",
              "    <tr>\n",
              "      <th>4</th>\n",
              "      <td>41865</td>\n",
              "      <td>About three things I was absolutely positive.\\...</td>\n",
              "      <td>Young Adult</td>\n",
              "    </tr>\n",
              "    <tr>\n",
              "      <th>...</th>\n",
              "      <td>...</td>\n",
              "      <td>...</td>\n",
              "      <td>...</td>\n",
              "    </tr>\n",
              "    <tr>\n",
              "      <th>25075</th>\n",
              "      <td>12464361</td>\n",
              "      <td>When seventeen-year-old Kara Nightingale is su...</td>\n",
              "      <td>Fantasy</td>\n",
              "    </tr>\n",
              "    <tr>\n",
              "      <th>25076</th>\n",
              "      <td>12395883</td>\n",
              "      <td>Lilah Lopez Dreser's in town to take care of u...</td>\n",
              "      <td>Romance</td>\n",
              "    </tr>\n",
              "    <tr>\n",
              "      <th>25077</th>\n",
              "      <td>11836711</td>\n",
              "      <td>'Anasazi', sequel to 'The Thirteenth Chime' by...</td>\n",
              "      <td>Mystery</td>\n",
              "    </tr>\n",
              "    <tr>\n",
              "      <th>25078</th>\n",
              "      <td>10815662</td>\n",
              "      <td>--READERS FAVORITE AWARDS WINNER 2011--Sixteen...</td>\n",
              "      <td>Fantasy</td>\n",
              "    </tr>\n",
              "    <tr>\n",
              "      <th>25079</th>\n",
              "      <td>11330278</td>\n",
              "      <td>A POWERFUL TREMOR UNEARTHS AN ANCIENT SECRETBu...</td>\n",
              "      <td>Fiction</td>\n",
              "    </tr>\n",
              "  </tbody>\n",
              "</table>\n",
              "<p>25080 rows × 3 columns</p>\n",
              "</div>\n",
              "      <button class=\"colab-df-convert\" onclick=\"convertToInteractive('df-99eef2f5-2213-416f-80cd-543c14318219')\"\n",
              "              title=\"Convert this dataframe to an interactive table.\"\n",
              "              style=\"display:none;\">\n",
              "        \n",
              "  <svg xmlns=\"http://www.w3.org/2000/svg\" height=\"24px\"viewBox=\"0 0 24 24\"\n",
              "       width=\"24px\">\n",
              "    <path d=\"M0 0h24v24H0V0z\" fill=\"none\"/>\n",
              "    <path d=\"M18.56 5.44l.94 2.06.94-2.06 2.06-.94-2.06-.94-.94-2.06-.94 2.06-2.06.94zm-11 1L8.5 8.5l.94-2.06 2.06-.94-2.06-.94L8.5 2.5l-.94 2.06-2.06.94zm10 10l.94 2.06.94-2.06 2.06-.94-2.06-.94-.94-2.06-.94 2.06-2.06.94z\"/><path d=\"M17.41 7.96l-1.37-1.37c-.4-.4-.92-.59-1.43-.59-.52 0-1.04.2-1.43.59L10.3 9.45l-7.72 7.72c-.78.78-.78 2.05 0 2.83L4 21.41c.39.39.9.59 1.41.59.51 0 1.02-.2 1.41-.59l7.78-7.78 2.81-2.81c.8-.78.8-2.07 0-2.86zM5.41 20L4 18.59l7.72-7.72 1.47 1.35L5.41 20z\"/>\n",
              "  </svg>\n",
              "      </button>\n",
              "      \n",
              "  <style>\n",
              "    .colab-df-container {\n",
              "      display:flex;\n",
              "      flex-wrap:wrap;\n",
              "      gap: 12px;\n",
              "    }\n",
              "\n",
              "    .colab-df-convert {\n",
              "      background-color: #E8F0FE;\n",
              "      border: none;\n",
              "      border-radius: 50%;\n",
              "      cursor: pointer;\n",
              "      display: none;\n",
              "      fill: #1967D2;\n",
              "      height: 32px;\n",
              "      padding: 0 0 0 0;\n",
              "      width: 32px;\n",
              "    }\n",
              "\n",
              "    .colab-df-convert:hover {\n",
              "      background-color: #E2EBFA;\n",
              "      box-shadow: 0px 1px 2px rgba(60, 64, 67, 0.3), 0px 1px 3px 1px rgba(60, 64, 67, 0.15);\n",
              "      fill: #174EA6;\n",
              "    }\n",
              "\n",
              "    [theme=dark] .colab-df-convert {\n",
              "      background-color: #3B4455;\n",
              "      fill: #D2E3FC;\n",
              "    }\n",
              "\n",
              "    [theme=dark] .colab-df-convert:hover {\n",
              "      background-color: #434B5C;\n",
              "      box-shadow: 0px 1px 3px 1px rgba(0, 0, 0, 0.15);\n",
              "      filter: drop-shadow(0px 1px 2px rgba(0, 0, 0, 0.3));\n",
              "      fill: #FFFFFF;\n",
              "    }\n",
              "  </style>\n",
              "\n",
              "      <script>\n",
              "        const buttonEl =\n",
              "          document.querySelector('#df-99eef2f5-2213-416f-80cd-543c14318219 button.colab-df-convert');\n",
              "        buttonEl.style.display =\n",
              "          google.colab.kernel.accessAllowed ? 'block' : 'none';\n",
              "\n",
              "        async function convertToInteractive(key) {\n",
              "          const element = document.querySelector('#df-99eef2f5-2213-416f-80cd-543c14318219');\n",
              "          const dataTable =\n",
              "            await google.colab.kernel.invokeFunction('convertToInteractive',\n",
              "                                                     [key], {});\n",
              "          if (!dataTable) return;\n",
              "\n",
              "          const docLinkHtml = 'Like what you see? Visit the ' +\n",
              "            '<a target=\"_blank\" href=https://colab.research.google.com/notebooks/data_table.ipynb>data table notebook</a>'\n",
              "            + ' to learn more about interactive tables.';\n",
              "          element.innerHTML = '';\n",
              "          dataTable['output_type'] = 'display_data';\n",
              "          await google.colab.output.renderOutput(dataTable, element);\n",
              "          const docLink = document.createElement('div');\n",
              "          docLink.innerHTML = docLinkHtml;\n",
              "          element.appendChild(docLink);\n",
              "        }\n",
              "      </script>\n",
              "    </div>\n",
              "  </div>\n",
              "  "
            ]
          },
          "metadata": {},
          "execution_count": 90
        }
      ]
    },
    {
      "cell_type": "markdown",
      "source": [
        "* Then, we clean the `description` column using the methods we have learned (e.g., removing punctuation marks, converting all characters to lowercase, etc.)."
      ],
      "metadata": {
        "id": "8XXa_tlmRS0n"
      }
    },
    {
      "cell_type": "code",
      "source": [
        "for index, row in new_df.iterrows():\n",
        "  # Remove punctuation\n",
        "  new_df.at[index, 'description'] = row['description'].translate(str.maketrans(string.punctuation, ' '*len(string.punctuation)))\n",
        "  # Everything lowercase\n",
        "  new_df.at[index, 'description'] = new_df.iloc[index]['description'].lower()\n",
        "  # Remove newlines\n",
        "  new_df.at[index, 'description'] = new_df.iloc[index]['description'].replace('\\n', ' ')\n",
        "\n",
        "new_df"
      ],
      "metadata": {
        "id": "GNl7v80reTcC",
        "colab": {
          "base_uri": "https://localhost:8080/",
          "height": 424
        },
        "outputId": "8f9355a7-a7f8-4246-c0af-f0b08c57b6c3"
      },
      "execution_count": null,
      "outputs": [
        {
          "output_type": "execute_result",
          "data": {
            "text/plain": [
              "         bookId                                        description  \\\n",
              "0       2767052  winning means fame and fortune losing means ce...   \n",
              "1             2  there is a door at the end of a silent corrido...   \n",
              "2          2657  the unforgettable novel of a childhood in a sl...   \n",
              "3          1885  alternate cover edition of isbn 9780679783268s...   \n",
              "4         41865  about three things i was absolutely positive  ...   \n",
              "...         ...                                                ...   \n",
              "25075  12464361  when seventeen year old kara nightingale is su...   \n",
              "25076  12395883  lilah lopez dreser s in town to take care of u...   \n",
              "25077  11836711   anasazi   sequel to  the thirteenth chime  by...   \n",
              "25078  10815662    readers favorite awards winner 2011  sixteen...   \n",
              "25079  11330278  a powerful tremor unearths an ancient secretbu...   \n",
              "\n",
              "       genreSingle  \n",
              "0      Young Adult  \n",
              "1          Fantasy  \n",
              "2         Classics  \n",
              "3         Classics  \n",
              "4      Young Adult  \n",
              "...            ...  \n",
              "25075      Fantasy  \n",
              "25076      Romance  \n",
              "25077      Mystery  \n",
              "25078      Fantasy  \n",
              "25079      Fiction  \n",
              "\n",
              "[25080 rows x 3 columns]"
            ],
            "text/html": [
              "\n",
              "  <div id=\"df-b7812170-48aa-4a58-abc3-aefb1131e666\">\n",
              "    <div class=\"colab-df-container\">\n",
              "      <div>\n",
              "<style scoped>\n",
              "    .dataframe tbody tr th:only-of-type {\n",
              "        vertical-align: middle;\n",
              "    }\n",
              "\n",
              "    .dataframe tbody tr th {\n",
              "        vertical-align: top;\n",
              "    }\n",
              "\n",
              "    .dataframe thead th {\n",
              "        text-align: right;\n",
              "    }\n",
              "</style>\n",
              "<table border=\"1\" class=\"dataframe\">\n",
              "  <thead>\n",
              "    <tr style=\"text-align: right;\">\n",
              "      <th></th>\n",
              "      <th>bookId</th>\n",
              "      <th>description</th>\n",
              "      <th>genreSingle</th>\n",
              "    </tr>\n",
              "  </thead>\n",
              "  <tbody>\n",
              "    <tr>\n",
              "      <th>0</th>\n",
              "      <td>2767052</td>\n",
              "      <td>winning means fame and fortune losing means ce...</td>\n",
              "      <td>Young Adult</td>\n",
              "    </tr>\n",
              "    <tr>\n",
              "      <th>1</th>\n",
              "      <td>2</td>\n",
              "      <td>there is a door at the end of a silent corrido...</td>\n",
              "      <td>Fantasy</td>\n",
              "    </tr>\n",
              "    <tr>\n",
              "      <th>2</th>\n",
              "      <td>2657</td>\n",
              "      <td>the unforgettable novel of a childhood in a sl...</td>\n",
              "      <td>Classics</td>\n",
              "    </tr>\n",
              "    <tr>\n",
              "      <th>3</th>\n",
              "      <td>1885</td>\n",
              "      <td>alternate cover edition of isbn 9780679783268s...</td>\n",
              "      <td>Classics</td>\n",
              "    </tr>\n",
              "    <tr>\n",
              "      <th>4</th>\n",
              "      <td>41865</td>\n",
              "      <td>about three things i was absolutely positive  ...</td>\n",
              "      <td>Young Adult</td>\n",
              "    </tr>\n",
              "    <tr>\n",
              "      <th>...</th>\n",
              "      <td>...</td>\n",
              "      <td>...</td>\n",
              "      <td>...</td>\n",
              "    </tr>\n",
              "    <tr>\n",
              "      <th>25075</th>\n",
              "      <td>12464361</td>\n",
              "      <td>when seventeen year old kara nightingale is su...</td>\n",
              "      <td>Fantasy</td>\n",
              "    </tr>\n",
              "    <tr>\n",
              "      <th>25076</th>\n",
              "      <td>12395883</td>\n",
              "      <td>lilah lopez dreser s in town to take care of u...</td>\n",
              "      <td>Romance</td>\n",
              "    </tr>\n",
              "    <tr>\n",
              "      <th>25077</th>\n",
              "      <td>11836711</td>\n",
              "      <td>anasazi   sequel to  the thirteenth chime  by...</td>\n",
              "      <td>Mystery</td>\n",
              "    </tr>\n",
              "    <tr>\n",
              "      <th>25078</th>\n",
              "      <td>10815662</td>\n",
              "      <td>readers favorite awards winner 2011  sixteen...</td>\n",
              "      <td>Fantasy</td>\n",
              "    </tr>\n",
              "    <tr>\n",
              "      <th>25079</th>\n",
              "      <td>11330278</td>\n",
              "      <td>a powerful tremor unearths an ancient secretbu...</td>\n",
              "      <td>Fiction</td>\n",
              "    </tr>\n",
              "  </tbody>\n",
              "</table>\n",
              "<p>25080 rows × 3 columns</p>\n",
              "</div>\n",
              "      <button class=\"colab-df-convert\" onclick=\"convertToInteractive('df-b7812170-48aa-4a58-abc3-aefb1131e666')\"\n",
              "              title=\"Convert this dataframe to an interactive table.\"\n",
              "              style=\"display:none;\">\n",
              "        \n",
              "  <svg xmlns=\"http://www.w3.org/2000/svg\" height=\"24px\"viewBox=\"0 0 24 24\"\n",
              "       width=\"24px\">\n",
              "    <path d=\"M0 0h24v24H0V0z\" fill=\"none\"/>\n",
              "    <path d=\"M18.56 5.44l.94 2.06.94-2.06 2.06-.94-2.06-.94-.94-2.06-.94 2.06-2.06.94zm-11 1L8.5 8.5l.94-2.06 2.06-.94-2.06-.94L8.5 2.5l-.94 2.06-2.06.94zm10 10l.94 2.06.94-2.06 2.06-.94-2.06-.94-.94-2.06-.94 2.06-2.06.94z\"/><path d=\"M17.41 7.96l-1.37-1.37c-.4-.4-.92-.59-1.43-.59-.52 0-1.04.2-1.43.59L10.3 9.45l-7.72 7.72c-.78.78-.78 2.05 0 2.83L4 21.41c.39.39.9.59 1.41.59.51 0 1.02-.2 1.41-.59l7.78-7.78 2.81-2.81c.8-.78.8-2.07 0-2.86zM5.41 20L4 18.59l7.72-7.72 1.47 1.35L5.41 20z\"/>\n",
              "  </svg>\n",
              "      </button>\n",
              "      \n",
              "  <style>\n",
              "    .colab-df-container {\n",
              "      display:flex;\n",
              "      flex-wrap:wrap;\n",
              "      gap: 12px;\n",
              "    }\n",
              "\n",
              "    .colab-df-convert {\n",
              "      background-color: #E8F0FE;\n",
              "      border: none;\n",
              "      border-radius: 50%;\n",
              "      cursor: pointer;\n",
              "      display: none;\n",
              "      fill: #1967D2;\n",
              "      height: 32px;\n",
              "      padding: 0 0 0 0;\n",
              "      width: 32px;\n",
              "    }\n",
              "\n",
              "    .colab-df-convert:hover {\n",
              "      background-color: #E2EBFA;\n",
              "      box-shadow: 0px 1px 2px rgba(60, 64, 67, 0.3), 0px 1px 3px 1px rgba(60, 64, 67, 0.15);\n",
              "      fill: #174EA6;\n",
              "    }\n",
              "\n",
              "    [theme=dark] .colab-df-convert {\n",
              "      background-color: #3B4455;\n",
              "      fill: #D2E3FC;\n",
              "    }\n",
              "\n",
              "    [theme=dark] .colab-df-convert:hover {\n",
              "      background-color: #434B5C;\n",
              "      box-shadow: 0px 1px 3px 1px rgba(0, 0, 0, 0.15);\n",
              "      filter: drop-shadow(0px 1px 2px rgba(0, 0, 0, 0.3));\n",
              "      fill: #FFFFFF;\n",
              "    }\n",
              "  </style>\n",
              "\n",
              "      <script>\n",
              "        const buttonEl =\n",
              "          document.querySelector('#df-b7812170-48aa-4a58-abc3-aefb1131e666 button.colab-df-convert');\n",
              "        buttonEl.style.display =\n",
              "          google.colab.kernel.accessAllowed ? 'block' : 'none';\n",
              "\n",
              "        async function convertToInteractive(key) {\n",
              "          const element = document.querySelector('#df-b7812170-48aa-4a58-abc3-aefb1131e666');\n",
              "          const dataTable =\n",
              "            await google.colab.kernel.invokeFunction('convertToInteractive',\n",
              "                                                     [key], {});\n",
              "          if (!dataTable) return;\n",
              "\n",
              "          const docLinkHtml = 'Like what you see? Visit the ' +\n",
              "            '<a target=\"_blank\" href=https://colab.research.google.com/notebooks/data_table.ipynb>data table notebook</a>'\n",
              "            + ' to learn more about interactive tables.';\n",
              "          element.innerHTML = '';\n",
              "          dataTable['output_type'] = 'display_data';\n",
              "          await google.colab.output.renderOutput(dataTable, element);\n",
              "          const docLink = document.createElement('div');\n",
              "          docLink.innerHTML = docLinkHtml;\n",
              "          element.appendChild(docLink);\n",
              "        }\n",
              "      </script>\n",
              "    </div>\n",
              "  </div>\n",
              "  "
            ]
          },
          "metadata": {},
          "execution_count": 91
        }
      ]
    },
    {
      "cell_type": "markdown",
      "source": [
        "* We apply the `word2vec` method to the descriptions, and then using the embeddings, we calculate for each description a vector with 200-300 values (features) - this will be the average of the embeddings of the words comprising the description."
      ],
      "metadata": {
        "id": "Ji3gSQuookdR"
      }
    },
    {
      "cell_type": "code",
      "source": [
        "# Number of features\n",
        "num_features = 300\n",
        "\n",
        "# Whether to load or create from scratch and save to *.pkl files\n",
        "# True to Load | False to Create and Save\n",
        "w2v_flag = False"
      ],
      "metadata": {
        "id": "NCfVRYP_y8Ds"
      },
      "execution_count": null,
      "outputs": []
    },
    {
      "cell_type": "code",
      "source": [
        "from gensim.models import Word2Vec\n",
        "\n",
        "if not w2v_flag:\n",
        "  tokenized_descr = new_df['description'].apply(lambda x: x.split()) # tokenizing\n",
        "\n",
        "  model_w2v = Word2Vec(tokenized_descr,\n",
        "                     vector_size=num_features, # desired no. of features/independent variables\n",
        "                     min_count=2,\n",
        "                     sg = 1, # 1 for skip-gram model\n",
        "                     workers= 4, # no.of cores\n",
        "                     seed = 34)"
      ],
      "metadata": {
        "id": "3raNhU3Bo2UF"
      },
      "execution_count": null,
      "outputs": []
    },
    {
      "cell_type": "code",
      "source": [
        "if not w2v_flag:\n",
        "  # This will be our dataset\n",
        "  X = []\n",
        "  # These will be our labels\n",
        "  Y = []\n",
        "\n",
        "  # Iterate over each book's description\n",
        "  for index, description in enumerate(tokenized_descr):\n",
        "    # Counter for how many words it has\n",
        "    count = 0\n",
        "    # Initialize an empty ndarray with only zeros (shape: (1, num_features))\n",
        "    average_embeddings = np.zeros((1, num_features))\n",
        "    # Iterate over each description's words\n",
        "    for word in description:\n",
        "      # Check if word exists in w2v model's vocabulary\n",
        "      if word in model_w2v.wv.key_to_index:\n",
        "        # New word, increase counter by 1\n",
        "        count += 1\n",
        "        # Add word's embeddings\n",
        "        average_embeddings += model_w2v.wv[word]\n",
        "\n",
        "    # In case none of the words exist in w2v model's vocabulary\n",
        "    if count > 0:\n",
        "      # Divide embeddings by the number of words in total in specific description\n",
        "      # We now have the average of the words' embeddings\n",
        "      average_embeddings /= count\n",
        "\n",
        "      # Append to X\n",
        "      X.append(average_embeddings)\n",
        "\n",
        "      # Get book's genreSingle\n",
        "      label = new_df.iloc[index]['genreSingle']\n",
        "      # Append to Y\n",
        "      Y.append(label)\n",
        "\n",
        "  # Stack arrays in sequence vertically (row wise)\n",
        "  X = np.vstack(X)\n",
        "  # Convert 'labels' to ndarray\n",
        "  Y = np.array(Y)"
      ],
      "metadata": {
        "id": "c669gZqxLNgj"
      },
      "execution_count": null,
      "outputs": []
    },
    {
      "cell_type": "markdown",
      "source": [
        "* We use the Python library pickle to store the features in `*.pkl` files. This way, we don't need to recalculate the features every time we run our program, but we can load them into memory using the corresponding `load` method."
      ],
      "metadata": {
        "id": "78soH53uR9gH"
      }
    },
    {
      "cell_type": "code",
      "source": [
        "if not w2v_flag:\n",
        "  # Save X as 'X.pkl'\n",
        "  pickle.dump(X, open(Location + 'X.pkl', 'wb'))\n",
        "\n",
        "  # Save Y as 'Y.pkl'\n",
        "  pickle.dump(Y, open(Location + 'Y.pkl', 'wb'))"
      ],
      "metadata": {
        "id": "-PZBlhUER8-m"
      },
      "execution_count": null,
      "outputs": []
    },
    {
      "cell_type": "code",
      "source": [
        "if w2v_flag:\n",
        "  # Load X from 'X.pkl'\n",
        "  X = pickle.load(open(Location + 'X.pkl', 'rb'))\n",
        "\n",
        "  # Load Y from 'Y.pkl'\n",
        "  Y = pickle.load(open(Location + 'Y.pkl', 'rb'))"
      ],
      "metadata": {
        "id": "o9xzgGFdptlt"
      },
      "execution_count": null,
      "outputs": []
    },
    {
      "cell_type": "markdown",
      "source": [
        "* We split the dataset into train (80%) and test (20%) using the [`train_test_split()`](https://scikit-learn.org/stable/modules/generated/sklearn.model_selection.train_test_split.html) method from the sklearn library.\n"
      ],
      "metadata": {
        "id": "gkHeXmPxRnHA"
      }
    },
    {
      "cell_type": "code",
      "source": [
        "from sklearn.model_selection import train_test_split\n",
        "\n",
        "X_train, X_test, Y_train, Y_test = train_test_split(X, Y, test_size=0.2, random_state=42)"
      ],
      "metadata": {
        "id": "b4rGr-42R2Im"
      },
      "execution_count": null,
      "outputs": []
    },
    {
      "cell_type": "markdown",
      "source": [
        "* Next, our program should be able to find the genres of the test set using the following Classification methods:\n",
        "  * Naive Bayes\n",
        "  * Support Vector Machines (SVM)\n",
        "  * Random Forests"
      ],
      "metadata": {
        "id": "BDbpji446CJo"
      }
    },
    {
      "cell_type": "markdown",
      "source": [
        "* All the above models will be trained **ONLY** on the train set and evaluated on the test set. Additionally, we will evaluate and record the performance of each method using 10-fold Cross Validation, utilizing the following metrics:\n",
        "  * Precision / Recall / F-Measure\n",
        "  * Accuracy"
      ],
      "metadata": {
        "id": "bjaYyPv570w4"
      }
    },
    {
      "cell_type": "code",
      "source": [
        "from sklearn.model_selection import cross_validate\n",
        "from sklearn.metrics import precision_score, recall_score, f1_score, accuracy_score\n",
        "import warnings\n",
        "warnings.simplefilter('ignore')\n",
        "\n",
        "scoring = ['precision_macro', 'recall_macro', 'f1_macro', 'accuracy']"
      ],
      "metadata": {
        "id": "6_YZZr5m7Nr8"
      },
      "execution_count": null,
      "outputs": []
    },
    {
      "cell_type": "markdown",
      "source": [
        "* We will use a DataFrame to store the results from each method."
      ],
      "metadata": {
        "id": "ejoLmZwNkDgd"
      }
    },
    {
      "cell_type": "code",
      "source": [
        "columns = ['Classification Method', 'train_test_split()',\n",
        "           '10-Fold Cross Validation', 'Fit Time', 'Score Time', 'Precision',\n",
        "           'Recall', 'F-Measure', 'Accuracy']\n",
        "\n",
        "results = pd.DataFrame(columns=columns)"
      ],
      "metadata": {
        "id": "M0hZH1wWkT6m"
      },
      "execution_count": null,
      "outputs": []
    },
    {
      "cell_type": "markdown",
      "source": [
        "* Naive Bayes using the `train_test_split()` method."
      ],
      "metadata": {
        "id": "6fYt6drD3t_B"
      }
    },
    {
      "cell_type": "code",
      "source": [
        "from sklearn.naive_bayes import GaussianNB\n",
        "\n",
        "# Start time\n",
        "start = time.time()\n",
        "\n",
        "# Gaussian Naive Bayes (Classifier)\n",
        "gnb = GaussianNB()\n",
        "\n",
        "# Train\n",
        "gnb.fit(X_train, Y_train)\n",
        "\n",
        "# Prediction\n",
        "y_pred = gnb.predict(X_test)\n",
        "\n",
        "# Fit time\n",
        "fit_time = time.time() - start\n",
        "\n",
        "# Start time\n",
        "start = time.time()\n",
        "\n",
        "# Precision / Recall / F-Measure / Accuracy\n",
        "precision = precision_score(Y_test, y_pred, average='macro')\n",
        "recall = recall_score(Y_test, y_pred, average='macro')\n",
        "f_measure = f1_score(Y_test, y_pred, average='macro')\n",
        "accuracy = accuracy_score(Y_test, y_pred)\n",
        "\n",
        "# Score time\n",
        "score_time = time.time() - start\n",
        "\n",
        "print(\"Fit Time:\", fit_time)\n",
        "print(\"Score Time:\", score_time)\n",
        "print(\"Precision:\", precision)\n",
        "print(\"Recall:\", recall)\n",
        "print(\"F-Measure:\", f_measure)\n",
        "print(\"Accuracy:\", accuracy)"
      ],
      "metadata": {
        "colab": {
          "base_uri": "https://localhost:8080/"
        },
        "id": "3Y3hiD1X3vxK",
        "outputId": "ed21bff9-8dfd-4ab4-e140-8d43d32246c1"
      },
      "execution_count": null,
      "outputs": [
        {
          "output_type": "stream",
          "name": "stdout",
          "text": [
            "Fit Time: 0.24952220916748047\n",
            "Score Time: 0.06036067008972168\n",
            "Precision: 0.29840869542998194\n",
            "Recall: 0.17411110616076625\n",
            "F-Measure: 0.10391179265532398\n",
            "Accuracy: 0.14114832535885166\n"
          ]
        }
      ]
    },
    {
      "cell_type": "code",
      "source": [
        "# Add to 'results' DataFrame\n",
        "results.loc[len(results)] = ['Gaussian Naive Bayes', True, False, fit_time,\n",
        "                             score_time, precision, recall, f_measure, accuracy]"
      ],
      "metadata": {
        "id": "1vBpJDiTlDO8"
      },
      "execution_count": null,
      "outputs": []
    },
    {
      "cell_type": "markdown",
      "source": [
        "* Naive Bayes using `10-fold Cross Validation`."
      ],
      "metadata": {
        "id": "ccJC7tfz7evf"
      }
    },
    {
      "cell_type": "code",
      "source": [
        "# Gaussian Naive Bayes (Classifier)\n",
        "gnb = GaussianNB()\n",
        "\n",
        "# 10-Fold Cross Validation using Gaussian Naive Bayes\n",
        "scores = cross_validate(gnb, X, Y, cv=10, scoring=scoring)\n",
        "\n",
        "print(\"Average Fit Time:\", np.mean(scores['fit_time']))\n",
        "print(\"Average Score Time:\", np.mean(scores['score_time']))\n",
        "print(\"Average Precision:\", np.mean(scores['test_precision_macro']))\n",
        "print(\"Average Recall:\", np.mean(scores['test_recall_macro']))\n",
        "print(\"Average F-Measure:\", np.mean(scores['test_f1_macro']))\n",
        "print(\"Average Accuracy:\", np.mean(scores['test_accuracy']))"
      ],
      "metadata": {
        "colab": {
          "base_uri": "https://localhost:8080/"
        },
        "id": "Eo7vY6XWyKfQ",
        "outputId": "28fabb56-4819-4e42-c363-117da2f41063"
      },
      "execution_count": null,
      "outputs": [
        {
          "output_type": "stream",
          "name": "stdout",
          "text": [
            "Average Fit Time: 0.12285523414611817\n",
            "Average Score Time: 0.06157560348510742\n",
            "Average Precision: 0.2630036911754257\n",
            "Average Recall: 0.18765927292962042\n",
            "Average F-Measure: 0.10928373422022568\n",
            "Average Accuracy: 0.14655050388418014\n"
          ]
        }
      ]
    },
    {
      "cell_type": "code",
      "source": [
        "# Add to 'results' DataFrame\n",
        "results.loc[len(results)] = ['Gaussian Naive Bayes', False, True,\n",
        "                             np.mean(scores['fit_time']),\n",
        "                             np.mean(scores['score_time']),\n",
        "                             np.mean(scores['test_precision_macro']),\n",
        "                             np.mean(scores['test_recall_macro']),\n",
        "                             np.mean(scores['test_f1_macro']),\n",
        "                             np.mean(scores['test_accuracy'])]"
      ],
      "metadata": {
        "id": "jZy0sX8Fmc7j"
      },
      "execution_count": null,
      "outputs": []
    },
    {
      "cell_type": "markdown",
      "source": [
        "* Support Vector Machines (SVM) using the `train_test_split()` method."
      ],
      "metadata": {
        "id": "nm8u8Yq23wAC"
      }
    },
    {
      "cell_type": "code",
      "source": [
        "from sklearn import svm\n",
        "\n",
        "def execute_SVM(c_var, kernel_var, gamma_var):\n",
        "    # Start time\n",
        "    start = time.time()\n",
        "\n",
        "    # SVM (classifier)\n",
        "    clf = svm.SVC(C=c_var, kernel=kernel_var, gamma=gamma_var)\n",
        "\n",
        "    # Train\n",
        "    clf.fit(X_train, Y_train)\n",
        "\n",
        "    # Prediction\n",
        "    y_pred = clf.predict(X_test)\n",
        "\n",
        "    # Fit time\n",
        "    fit_time = time.time() - start\n",
        "\n",
        "    # Start time\n",
        "    start = time.time()\n",
        "\n",
        "    # Precision / Recall / F-Measure / Accuracy\n",
        "    precision = precision_score(Y_test, y_pred, average='macro')\n",
        "    recall = recall_score(Y_test, y_pred, average='macro')\n",
        "    f_measure = f1_score(Y_test, y_pred, average='macro')\n",
        "    accuracy = accuracy_score(Y_test, y_pred)\n",
        "\n",
        "    # Score time\n",
        "    score_time = time.time() - start\n",
        "\n",
        "    print(\"Fit Time:\", fit_time)\n",
        "    print(\"Score Time:\", score_time)\n",
        "    print(\"Precision:\", precision)\n",
        "    print(\"Recall:\", recall)\n",
        "    print(\"F-Measure:\", f_measure)\n",
        "    print(\"Accuracy:\", accuracy)\n",
        "\n",
        "    return fit_time, score_time, precision, recall, f_measure, accuracy"
      ],
      "metadata": {
        "id": "V9LqqQMY3zde"
      },
      "execution_count": null,
      "outputs": []
    },
    {
      "cell_type": "code",
      "source": [
        "best_accuracy = 0\n",
        "\n",
        "# Find the best Kernel and (hyper)parameters\n",
        "for kernel_var in ['linear', 'rbf']:\n",
        "    for c_var in [0.1, 0.5, 1.0]:\n",
        "        for gamma_var in [0.01, 0.1, 'scale']:\n",
        "            print(f\"Kernel = {kernel_var} \\nC = {c_var} \\nGamma = {gamma_var}\")\n",
        "            fit_time, score_time, precision, recall, f_measure, accuracy = execute_SVM(c_var, kernel_var, gamma_var)\n",
        "            print(\"--------------------\")\n",
        "\n",
        "            if accuracy > best_accuracy:\n",
        "                best_kernel = kernel_var\n",
        "                best_c = c_var\n",
        "                best_gamma = gamma_var\n",
        "                _fit_time = fit_time\n",
        "                _score_time = score_time\n",
        "                _precision = precision\n",
        "                _recall = recall\n",
        "                _f_measure = f_measure\n",
        "                best_accuracy = accuracy"
      ],
      "metadata": {
        "colab": {
          "base_uri": "https://localhost:8080/"
        },
        "id": "5f_w5aZD4R6B",
        "outputId": "dddf9daf-f76f-4f7c-b1d9-0a95204259eb"
      },
      "execution_count": null,
      "outputs": [
        {
          "output_type": "stream",
          "name": "stdout",
          "text": [
            "Kernel = linear \n",
            "C = 0.1 \n",
            "Gamma = 0.01\n",
            "Fit Time: 125.02228140830994\n",
            "Score Time: 0.05603313446044922\n",
            "Precision: 0.5937785315789976\n",
            "Recall: 0.37493405258298657\n",
            "F-Measure: 0.3843605795024234\n",
            "Accuracy: 0.5239234449760766\n",
            "--------------------\n",
            "Kernel = linear \n",
            "C = 0.1 \n",
            "Gamma = 0.1\n",
            "Fit Time: 127.87218451499939\n",
            "Score Time: 0.10461616516113281\n",
            "Precision: 0.5937785315789976\n",
            "Recall: 0.37493405258298657\n",
            "F-Measure: 0.3843605795024234\n",
            "Accuracy: 0.5239234449760766\n",
            "--------------------\n",
            "Kernel = linear \n",
            "C = 0.1 \n",
            "Gamma = scale\n",
            "Fit Time: 133.4487988948822\n",
            "Score Time: 0.05837821960449219\n",
            "Precision: 0.5937785315789976\n",
            "Recall: 0.37493405258298657\n",
            "F-Measure: 0.3843605795024234\n",
            "Accuracy: 0.5239234449760766\n",
            "--------------------\n",
            "Kernel = linear \n",
            "C = 0.5 \n",
            "Gamma = 0.01\n",
            "Fit Time: 106.07090759277344\n",
            "Score Time: 0.05727577209472656\n",
            "Precision: 0.6376149426248291\n",
            "Recall: 0.5112386709466039\n",
            "F-Measure: 0.5388860721940347\n",
            "Accuracy: 0.6018740031897927\n",
            "--------------------\n",
            "Kernel = linear \n",
            "C = 0.5 \n",
            "Gamma = 0.1\n",
            "Fit Time: 101.7360053062439\n",
            "Score Time: 0.09184098243713379\n",
            "Precision: 0.6376149426248291\n",
            "Recall: 0.5112386709466039\n",
            "F-Measure: 0.5388860721940347\n",
            "Accuracy: 0.6018740031897927\n",
            "--------------------\n",
            "Kernel = linear \n",
            "C = 0.5 \n",
            "Gamma = scale\n",
            "Fit Time: 100.41038537025452\n",
            "Score Time: 0.054726600646972656\n",
            "Precision: 0.6376149426248291\n",
            "Recall: 0.5112386709466039\n",
            "F-Measure: 0.5388860721940347\n",
            "Accuracy: 0.6018740031897927\n",
            "--------------------\n",
            "Kernel = linear \n",
            "C = 1.0 \n",
            "Gamma = 0.01\n",
            "Fit Time: 88.73366189002991\n",
            "Score Time: 0.10007429122924805\n",
            "Precision: 0.6428676212486178\n",
            "Recall: 0.5336494261514602\n",
            "F-Measure: 0.5589096179908447\n",
            "Accuracy: 0.615829346092504\n",
            "--------------------\n",
            "Kernel = linear \n",
            "C = 1.0 \n",
            "Gamma = 0.1\n",
            "Fit Time: 90.01573610305786\n",
            "Score Time: 0.05511188507080078\n",
            "Precision: 0.6428676212486178\n",
            "Recall: 0.5336494261514602\n",
            "F-Measure: 0.5589096179908447\n",
            "Accuracy: 0.615829346092504\n",
            "--------------------\n",
            "Kernel = linear \n",
            "C = 1.0 \n",
            "Gamma = scale\n",
            "Fit Time: 85.90302658081055\n",
            "Score Time: 0.09865760803222656\n",
            "Precision: 0.6428676212486178\n",
            "Recall: 0.5336494261514602\n",
            "F-Measure: 0.5589096179908447\n",
            "Accuracy: 0.615829346092504\n",
            "--------------------\n",
            "Kernel = rbf \n",
            "C = 0.1 \n",
            "Gamma = 0.01\n",
            "Fit Time: 198.39547967910767\n",
            "Score Time: 0.05661606788635254\n",
            "Precision: 0.05540160642570281\n",
            "Recall: 0.1004562245746865\n",
            "F-Measure: 0.038547802628656154\n",
            "Accuracy: 0.22149122807017543\n",
            "--------------------\n",
            "Kernel = rbf \n",
            "C = 0.1 \n",
            "Gamma = 0.1\n",
            "Fit Time: 177.0532248020172\n",
            "Score Time: 0.07838988304138184\n",
            "Precision: 0.4130237494658603\n",
            "Recall: 0.22013615395813851\n",
            "F-Measure: 0.1630656462576726\n",
            "Accuracy: 0.40350877192982454\n",
            "--------------------\n",
            "Kernel = rbf \n",
            "C = 0.1 \n",
            "Gamma = scale\n",
            "Fit Time: 169.30441975593567\n",
            "Score Time: 0.06585907936096191\n",
            "Precision: 0.36348431358919464\n",
            "Recall: 0.2675006987457487\n",
            "F-Measure: 0.24096953016931638\n",
            "Accuracy: 0.44258373205741625\n",
            "--------------------\n",
            "Kernel = rbf \n",
            "C = 0.5 \n",
            "Gamma = 0.01\n",
            "Fit Time: 188.86194825172424\n",
            "Score Time: 0.10495567321777344\n",
            "Precision: 0.12438797868756064\n",
            "Recall: 0.1926206271904653\n",
            "F-Measure: 0.13669073427146122\n",
            "Accuracy: 0.37440191387559807\n",
            "--------------------\n",
            "Kernel = rbf \n",
            "C = 0.5 \n",
            "Gamma = 0.1\n",
            "Fit Time: 145.50043845176697\n",
            "Score Time: 0.0552978515625\n",
            "Precision: 0.5821612779657894\n",
            "Recall: 0.38312178366185334\n",
            "F-Measure: 0.39581877837293733\n",
            "Accuracy: 0.5289074960127592\n",
            "--------------------\n",
            "Kernel = rbf \n",
            "C = 0.5 \n",
            "Gamma = scale\n",
            "Fit Time: 131.30442118644714\n",
            "Score Time: 0.10146188735961914\n",
            "Precision: 0.6312178253021857\n",
            "Recall: 0.4678958432460668\n",
            "F-Measure: 0.49767955708706724\n",
            "Accuracy: 0.5795454545454546\n",
            "--------------------\n",
            "Kernel = rbf \n",
            "C = 1.0 \n",
            "Gamma = 0.01\n",
            "Fit Time: 184.169424533844\n",
            "Score Time: 0.05545377731323242\n",
            "Precision: 0.37509431480609473\n",
            "Recall: 0.21768558004583172\n",
            "F-Measure: 0.15843686360358306\n",
            "Accuracy: 0.4011164274322169\n",
            "--------------------\n",
            "Kernel = rbf \n",
            "C = 1.0 \n",
            "Gamma = 0.1\n",
            "Fit Time: 133.65313124656677\n",
            "Score Time: 0.05975985527038574\n",
            "Precision: 0.6265974520338402\n",
            "Recall: 0.4660403953784652\n",
            "F-Measure: 0.4953093287160321\n",
            "Accuracy: 0.5781499202551834\n",
            "--------------------\n",
            "Kernel = rbf \n",
            "C = 1.0 \n",
            "Gamma = scale\n",
            "Fit Time: 119.24094343185425\n",
            "Score Time: 0.05741620063781738\n",
            "Precision: 0.6524640607845361\n",
            "Recall: 0.5100864954215801\n",
            "F-Measure: 0.5394155642783632\n",
            "Accuracy: 0.6038676236044657\n",
            "--------------------\n"
          ]
        }
      ]
    },
    {
      "cell_type": "code",
      "source": [
        "print(\"--------------------------------------\\nBest Kernel and (hyper)parameters are:\\n--------------------------------------\")\n",
        "print(f\"Kernel = {best_kernel} \\nC = {best_c} \\nGamma = {best_gamma}\")\n",
        "print(\"Fit Time:\", _fit_time)\n",
        "print(\"Score Time:\", _score_time)\n",
        "print(\"Precision:\", _precision)\n",
        "print(\"Recall:\", _recall)\n",
        "print(\"F-Measure:\", _f_measure)\n",
        "print(\"Accuracy:\", best_accuracy)"
      ],
      "metadata": {
        "id": "5dCU1EAQb282",
        "colab": {
          "base_uri": "https://localhost:8080/"
        },
        "outputId": "7401fc9d-6aab-45b6-8f8c-8e1ccf1ec14c"
      },
      "execution_count": null,
      "outputs": [
        {
          "output_type": "stream",
          "name": "stdout",
          "text": [
            "--------------------------------------\n",
            "Best Kernel and (hyper)parameters are:\n",
            "--------------------------------------\n",
            "Kernel = linear \n",
            "C = 1.0 \n",
            "Gamma = 0.01\n",
            "Fit Time: 88.73366189002991\n",
            "Score Time: 0.10007429122924805\n",
            "Precision: 0.6428676212486178\n",
            "Recall: 0.5336494261514602\n",
            "F-Measure: 0.5589096179908447\n",
            "Accuracy: 0.615829346092504\n"
          ]
        }
      ]
    },
    {
      "cell_type": "code",
      "source": [
        "# Add to 'results' DataFrame\n",
        "results.loc[len(results)] = ['Support Vector Machines (SVM)', True, False,\n",
        "                             _fit_time, _score_time, _precision, _recall,\n",
        "                             _f_measure, best_accuracy]"
      ],
      "metadata": {
        "id": "1pTpJO8mnQZt"
      },
      "execution_count": null,
      "outputs": []
    },
    {
      "cell_type": "markdown",
      "source": [
        "* Support Vector Machines (SVM) using `10-fold Cross Validation`."
      ],
      "metadata": {
        "id": "9km4ih1ZD6N2"
      }
    },
    {
      "cell_type": "code",
      "source": [
        "# SVM (classifier)\n",
        "clf = svm.SVC(C=best_c, kernel=best_kernel, gamma=best_gamma)\n",
        "\n",
        "# 10-Fold Cross Validation using Support Vector Machines (SVM)\n",
        "scores = cross_validate(clf, X, Y, cv=10, scoring=scoring)\n",
        "\n",
        "print(\"Average Fit Time:\", np.mean(scores['fit_time']))\n",
        "print(\"Average Score Time:\", np.mean(scores['score_time']))\n",
        "print(\"Average Precision:\", np.mean(scores['test_precision_macro']))\n",
        "print(\"Average Recall:\", np.mean(scores['test_recall_macro']))\n",
        "print(\"Average F-Measure:\", np.mean(scores['test_f1_macro']))\n",
        "print(\"Average Accuracy:\", np.mean(scores['test_accuracy']))"
      ],
      "metadata": {
        "id": "LUNtuGnpEA_O",
        "colab": {
          "base_uri": "https://localhost:8080/"
        },
        "outputId": "48f4dc6d-bc14-4127-8888-7b7a10aa1ce6"
      },
      "execution_count": null,
      "outputs": [
        {
          "output_type": "stream",
          "name": "stdout",
          "text": [
            "Average Fit Time: 88.8527160167694\n",
            "Average Score Time: 10.520917892456055\n",
            "Average Precision: 0.6398044489649735\n",
            "Average Recall: 0.5442422183734515\n",
            "Average F-Measure: 0.567415950043271\n",
            "Average Accuracy: 0.625113430401256\n"
          ]
        }
      ]
    },
    {
      "cell_type": "code",
      "source": [
        "# Add to 'results' DataFrame\n",
        "results.loc[len(results)] = ['Support Vector Machines (SVM)', False, True,\n",
        "                             np.mean(scores['fit_time']),\n",
        "                             np.mean(scores['score_time']),\n",
        "                             np.mean(scores['test_precision_macro']),\n",
        "                             np.mean(scores['test_recall_macro']),\n",
        "                             np.mean(scores['test_f1_macro']),\n",
        "                             np.mean(scores['test_accuracy'])]"
      ],
      "metadata": {
        "id": "X3gMvm1SncVv"
      },
      "execution_count": null,
      "outputs": []
    },
    {
      "cell_type": "markdown",
      "source": [
        "* Random Forests using the `train_test_split()` method."
      ],
      "metadata": {
        "id": "4jhIIGTFC6sR"
      }
    },
    {
      "cell_type": "code",
      "source": [
        "from sklearn.ensemble import RandomForestClassifier\n",
        "\n",
        "# Start time\n",
        "start = time.time()\n",
        "\n",
        "# Random Forests (Classifier)\n",
        "rfc = RandomForestClassifier()\n",
        "\n",
        "# Train\n",
        "rfc.fit(X_train, Y_train)\n",
        "\n",
        "# Prediction\n",
        "y_pred = rfc.predict(X_test)\n",
        "\n",
        "# Fit time\n",
        "fit_time = time.time() - start\n",
        "\n",
        "# Start time\n",
        "start = time.time()\n",
        "\n",
        "# Precision / Recall / F-Measure / Accuracy\n",
        "precision = precision_score(Y_test, y_pred, average='macro')\n",
        "recall = recall_score(Y_test, y_pred, average='macro')\n",
        "f_measure = f1_score(Y_test, y_pred, average='macro')\n",
        "accuracy = accuracy_score(Y_test, y_pred)\n",
        "\n",
        "# Score time\n",
        "score_time = time.time() - start\n",
        "\n",
        "print(\"Fit Time:\", fit_time)\n",
        "print(\"Score Time:\", score_time)\n",
        "print(\"Precision:\", precision)\n",
        "print(\"Recall:\", recall)\n",
        "print(\"F-Measure:\", f_measure)\n",
        "print(\"Accuracy:\", accuracy)"
      ],
      "metadata": {
        "id": "96v-qg7hC8GC",
        "colab": {
          "base_uri": "https://localhost:8080/"
        },
        "outputId": "36d1e5c4-9252-4e4c-8611-7161b9589fe7"
      },
      "execution_count": null,
      "outputs": [
        {
          "output_type": "stream",
          "name": "stdout",
          "text": [
            "Fit Time: 47.981048583984375\n",
            "Score Time: 0.05563616752624512\n",
            "Precision: 0.6278344922786736\n",
            "Recall: 0.4722980913110465\n",
            "F-Measure: 0.5034790044309718\n",
            "Accuracy: 0.569377990430622\n"
          ]
        }
      ]
    },
    {
      "cell_type": "code",
      "source": [
        "# Add to 'results' DataFrame\n",
        "results.loc[len(results)] = ['Random Forests', True, False, fit_time,\n",
        "                             score_time, precision, recall, f_measure, accuracy]"
      ],
      "metadata": {
        "id": "kks2YgaWnvqA"
      },
      "execution_count": null,
      "outputs": []
    },
    {
      "cell_type": "markdown",
      "source": [
        "* Random Forests using `10-fold Cross Validation`."
      ],
      "metadata": {
        "id": "pIT_0cbn3z6y"
      }
    },
    {
      "cell_type": "code",
      "source": [
        "# Random Forests (Classifier)\n",
        "rfc = RandomForestClassifier()\n",
        "\n",
        "# 10-Fold Cross Validation using Random Forests\n",
        "scores = cross_validate(rfc, X, Y, cv=10, scoring=scoring)\n",
        "\n",
        "print(\"Average Fit Time:\", np.mean(scores['fit_time']))\n",
        "print(\"Average Score Time:\", np.mean(scores['score_time']))\n",
        "print(\"Average Precision:\", np.mean(scores['test_precision_macro']))\n",
        "print(\"Average Recall:\", np.mean(scores['test_recall_macro']))\n",
        "print(\"Average F-Measure:\", np.mean(scores['test_f1_macro']))\n",
        "print(\"Average Accuracy:\", np.mean(scores['test_accuracy']))"
      ],
      "metadata": {
        "id": "Jm3SbkfU31ih",
        "colab": {
          "base_uri": "https://localhost:8080/"
        },
        "outputId": "91d653c8-7a9f-47df-b208-62b6a68bf2a4"
      },
      "execution_count": null,
      "outputs": [
        {
          "output_type": "stream",
          "name": "stdout",
          "text": [
            "Average Fit Time: 57.568510103225705\n",
            "Average Score Time: 0.14299776554107665\n",
            "Average Precision: 0.6246386774438236\n",
            "Average Recall: 0.4736816244572576\n",
            "Average F-Measure: 0.5048723968837264\n",
            "Average Accuracy: 0.5712396676864586\n"
          ]
        }
      ]
    },
    {
      "cell_type": "code",
      "source": [
        "# Add to 'results' DataFrame\n",
        "results.loc[len(results)] = ['Random Forests', False, True,\n",
        "                             np.mean(scores['fit_time']),\n",
        "                             np.mean(scores['score_time']),\n",
        "                             np.mean(scores['test_precision_macro']),\n",
        "                             np.mean(scores['test_recall_macro']),\n",
        "                             np.mean(scores['test_f1_macro']),\n",
        "                             np.mean(scores['test_accuracy'])]"
      ],
      "metadata": {
        "id": "GKFht0u1oXFB"
      },
      "execution_count": null,
      "outputs": []
    },
    {
      "cell_type": "markdown",
      "source": [
        "---\n",
        "**Results Table:**\n",
        "\n",
        "*The times displayed are in seconds.*\n",
        "\n",
        "*In entries where 10-Fold Cross Validation = True, the time indicated is the average of each k-fold.*"
      ],
      "metadata": {
        "id": "fWSs4r_EDwFE"
      }
    },
    {
      "cell_type": "code",
      "source": [
        "results"
      ],
      "metadata": {
        "colab": {
          "base_uri": "https://localhost:8080/",
          "height": 238
        },
        "id": "EiTXoyuyjJ3P",
        "outputId": "d3e8ca92-a595-49ed-dc84-eeaaafa96eae"
      },
      "execution_count": null,
      "outputs": [
        {
          "output_type": "execute_result",
          "data": {
            "text/plain": [
              "           Classification Method  train_test_split()  \\\n",
              "0           Gaussian Naive Bayes                True   \n",
              "1           Gaussian Naive Bayes               False   \n",
              "2  Support Vector Machines (SVM)                True   \n",
              "3  Support Vector Machines (SVM)               False   \n",
              "4                 Random Forests                True   \n",
              "5                 Random Forests               False   \n",
              "\n",
              "   10-Fold Cross Validation   Fit Time  Score Time  Precision    Recall  \\\n",
              "0                     False   0.249522    0.060361   0.298409  0.174111   \n",
              "1                      True   0.122855    0.061576   0.263004  0.187659   \n",
              "2                     False  88.733662    0.100074   0.642868  0.533649   \n",
              "3                      True  88.852716   10.520918   0.639804  0.544242   \n",
              "4                     False  47.981049    0.055636   0.627834  0.472298   \n",
              "5                      True  57.568510    0.142998   0.624639  0.473682   \n",
              "\n",
              "   F-Measure  Accuracy  \n",
              "0   0.103912  0.141148  \n",
              "1   0.109284  0.146551  \n",
              "2   0.558910  0.615829  \n",
              "3   0.567416  0.625113  \n",
              "4   0.503479  0.569378  \n",
              "5   0.504872  0.571240  "
            ],
            "text/html": [
              "\n",
              "  <div id=\"df-07bc2b26-6bed-4252-bbf9-a9a741d7e56c\">\n",
              "    <div class=\"colab-df-container\">\n",
              "      <div>\n",
              "<style scoped>\n",
              "    .dataframe tbody tr th:only-of-type {\n",
              "        vertical-align: middle;\n",
              "    }\n",
              "\n",
              "    .dataframe tbody tr th {\n",
              "        vertical-align: top;\n",
              "    }\n",
              "\n",
              "    .dataframe thead th {\n",
              "        text-align: right;\n",
              "    }\n",
              "</style>\n",
              "<table border=\"1\" class=\"dataframe\">\n",
              "  <thead>\n",
              "    <tr style=\"text-align: right;\">\n",
              "      <th></th>\n",
              "      <th>Classification Method</th>\n",
              "      <th>train_test_split()</th>\n",
              "      <th>10-Fold Cross Validation</th>\n",
              "      <th>Fit Time</th>\n",
              "      <th>Score Time</th>\n",
              "      <th>Precision</th>\n",
              "      <th>Recall</th>\n",
              "      <th>F-Measure</th>\n",
              "      <th>Accuracy</th>\n",
              "    </tr>\n",
              "  </thead>\n",
              "  <tbody>\n",
              "    <tr>\n",
              "      <th>0</th>\n",
              "      <td>Gaussian Naive Bayes</td>\n",
              "      <td>True</td>\n",
              "      <td>False</td>\n",
              "      <td>0.249522</td>\n",
              "      <td>0.060361</td>\n",
              "      <td>0.298409</td>\n",
              "      <td>0.174111</td>\n",
              "      <td>0.103912</td>\n",
              "      <td>0.141148</td>\n",
              "    </tr>\n",
              "    <tr>\n",
              "      <th>1</th>\n",
              "      <td>Gaussian Naive Bayes</td>\n",
              "      <td>False</td>\n",
              "      <td>True</td>\n",
              "      <td>0.122855</td>\n",
              "      <td>0.061576</td>\n",
              "      <td>0.263004</td>\n",
              "      <td>0.187659</td>\n",
              "      <td>0.109284</td>\n",
              "      <td>0.146551</td>\n",
              "    </tr>\n",
              "    <tr>\n",
              "      <th>2</th>\n",
              "      <td>Support Vector Machines (SVM)</td>\n",
              "      <td>True</td>\n",
              "      <td>False</td>\n",
              "      <td>88.733662</td>\n",
              "      <td>0.100074</td>\n",
              "      <td>0.642868</td>\n",
              "      <td>0.533649</td>\n",
              "      <td>0.558910</td>\n",
              "      <td>0.615829</td>\n",
              "    </tr>\n",
              "    <tr>\n",
              "      <th>3</th>\n",
              "      <td>Support Vector Machines (SVM)</td>\n",
              "      <td>False</td>\n",
              "      <td>True</td>\n",
              "      <td>88.852716</td>\n",
              "      <td>10.520918</td>\n",
              "      <td>0.639804</td>\n",
              "      <td>0.544242</td>\n",
              "      <td>0.567416</td>\n",
              "      <td>0.625113</td>\n",
              "    </tr>\n",
              "    <tr>\n",
              "      <th>4</th>\n",
              "      <td>Random Forests</td>\n",
              "      <td>True</td>\n",
              "      <td>False</td>\n",
              "      <td>47.981049</td>\n",
              "      <td>0.055636</td>\n",
              "      <td>0.627834</td>\n",
              "      <td>0.472298</td>\n",
              "      <td>0.503479</td>\n",
              "      <td>0.569378</td>\n",
              "    </tr>\n",
              "    <tr>\n",
              "      <th>5</th>\n",
              "      <td>Random Forests</td>\n",
              "      <td>False</td>\n",
              "      <td>True</td>\n",
              "      <td>57.568510</td>\n",
              "      <td>0.142998</td>\n",
              "      <td>0.624639</td>\n",
              "      <td>0.473682</td>\n",
              "      <td>0.504872</td>\n",
              "      <td>0.571240</td>\n",
              "    </tr>\n",
              "  </tbody>\n",
              "</table>\n",
              "</div>\n",
              "      <button class=\"colab-df-convert\" onclick=\"convertToInteractive('df-07bc2b26-6bed-4252-bbf9-a9a741d7e56c')\"\n",
              "              title=\"Convert this dataframe to an interactive table.\"\n",
              "              style=\"display:none;\">\n",
              "        \n",
              "  <svg xmlns=\"http://www.w3.org/2000/svg\" height=\"24px\"viewBox=\"0 0 24 24\"\n",
              "       width=\"24px\">\n",
              "    <path d=\"M0 0h24v24H0V0z\" fill=\"none\"/>\n",
              "    <path d=\"M18.56 5.44l.94 2.06.94-2.06 2.06-.94-2.06-.94-.94-2.06-.94 2.06-2.06.94zm-11 1L8.5 8.5l.94-2.06 2.06-.94-2.06-.94L8.5 2.5l-.94 2.06-2.06.94zm10 10l.94 2.06.94-2.06 2.06-.94-2.06-.94-.94-2.06-.94 2.06-2.06.94z\"/><path d=\"M17.41 7.96l-1.37-1.37c-.4-.4-.92-.59-1.43-.59-.52 0-1.04.2-1.43.59L10.3 9.45l-7.72 7.72c-.78.78-.78 2.05 0 2.83L4 21.41c.39.39.9.59 1.41.59.51 0 1.02-.2 1.41-.59l7.78-7.78 2.81-2.81c.8-.78.8-2.07 0-2.86zM5.41 20L4 18.59l7.72-7.72 1.47 1.35L5.41 20z\"/>\n",
              "  </svg>\n",
              "      </button>\n",
              "      \n",
              "  <style>\n",
              "    .colab-df-container {\n",
              "      display:flex;\n",
              "      flex-wrap:wrap;\n",
              "      gap: 12px;\n",
              "    }\n",
              "\n",
              "    .colab-df-convert {\n",
              "      background-color: #E8F0FE;\n",
              "      border: none;\n",
              "      border-radius: 50%;\n",
              "      cursor: pointer;\n",
              "      display: none;\n",
              "      fill: #1967D2;\n",
              "      height: 32px;\n",
              "      padding: 0 0 0 0;\n",
              "      width: 32px;\n",
              "    }\n",
              "\n",
              "    .colab-df-convert:hover {\n",
              "      background-color: #E2EBFA;\n",
              "      box-shadow: 0px 1px 2px rgba(60, 64, 67, 0.3), 0px 1px 3px 1px rgba(60, 64, 67, 0.15);\n",
              "      fill: #174EA6;\n",
              "    }\n",
              "\n",
              "    [theme=dark] .colab-df-convert {\n",
              "      background-color: #3B4455;\n",
              "      fill: #D2E3FC;\n",
              "    }\n",
              "\n",
              "    [theme=dark] .colab-df-convert:hover {\n",
              "      background-color: #434B5C;\n",
              "      box-shadow: 0px 1px 3px 1px rgba(0, 0, 0, 0.15);\n",
              "      filter: drop-shadow(0px 1px 2px rgba(0, 0, 0, 0.3));\n",
              "      fill: #FFFFFF;\n",
              "    }\n",
              "  </style>\n",
              "\n",
              "      <script>\n",
              "        const buttonEl =\n",
              "          document.querySelector('#df-07bc2b26-6bed-4252-bbf9-a9a741d7e56c button.colab-df-convert');\n",
              "        buttonEl.style.display =\n",
              "          google.colab.kernel.accessAllowed ? 'block' : 'none';\n",
              "\n",
              "        async function convertToInteractive(key) {\n",
              "          const element = document.querySelector('#df-07bc2b26-6bed-4252-bbf9-a9a741d7e56c');\n",
              "          const dataTable =\n",
              "            await google.colab.kernel.invokeFunction('convertToInteractive',\n",
              "                                                     [key], {});\n",
              "          if (!dataTable) return;\n",
              "\n",
              "          const docLinkHtml = 'Like what you see? Visit the ' +\n",
              "            '<a target=\"_blank\" href=https://colab.research.google.com/notebooks/data_table.ipynb>data table notebook</a>'\n",
              "            + ' to learn more about interactive tables.';\n",
              "          element.innerHTML = '';\n",
              "          dataTable['output_type'] = 'display_data';\n",
              "          await google.colab.output.renderOutput(dataTable, element);\n",
              "          const docLink = document.createElement('div');\n",
              "          docLink.innerHTML = docLinkHtml;\n",
              "          element.appendChild(docLink);\n",
              "        }\n",
              "      </script>\n",
              "    </div>\n",
              "  </div>\n",
              "  "
            ]
          },
          "metadata": {},
          "execution_count": 114
        }
      ]
    },
    {
      "cell_type": "markdown",
      "source": [
        "> Christos Ioannou"
      ],
      "metadata": {
        "id": "hpG7rI1AG32t"
      }
    }
  ]
}